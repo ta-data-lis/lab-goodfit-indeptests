{
 "cells": [
  {
   "cell_type": "code",
   "execution_count": 1,
   "metadata": {},
   "outputs": [],
   "source": [
    "## libraries\n",
    "import numpy as np\n",
    "import scipy.stats as st"
   ]
  },
  {
   "cell_type": "markdown",
   "metadata": {},
   "source": [
    "## Question 1\n",
    "The following table indicates the number of 6-point scores in an American rugby match in the 1979 season.\n",
    "\n",
    "![](table1.png)\n",
    "\n",
    "Based on these results, we create a Poisson distribution with the sample mean parameter  = 2.435. Is there any reason to believe that at a .05 level the number of scores is a Poisson variable?"
   ]
  },
  {
   "cell_type": "code",
   "execution_count": 11,
   "metadata": {},
   "outputs": [
    {
     "name": "stdout",
     "output_type": "stream",
     "text": [
      "reject the H0? False\n"
     ]
    }
   ],
   "source": [
    "# your answer here\n",
    "## H0: mu == poisson variable\n",
    "sl = 0.05  ## significance level\n",
    "\n",
    "## create our poisson distribution\n",
    "p = 2.435\n",
    "poisson_distribution = st.poisson(p)\n",
    "\n",
    "## get our observed values\n",
    "obs_values = np.array([35,99,104,110,62,25,10,3])\n",
    "n = obs_values.sum()\n",
    "\n",
    "## get our expected values\n",
    "expected = np.array([poisson_distribution.pmf(i) for i in range(len(obs_values)-1)])\n",
    "exp_values = np.append(expected,1-expected.sum())*n\n",
    "\n",
    "## chi-square\n",
    "stat, p_value = st.chisquare(obs_values,f_exp=exp_values)\n",
    "print('reject the H0? %s' %(p_value < sl))"
   ]
  },
  {
   "cell_type": "markdown",
   "metadata": {},
   "source": [
    "## BONUS/OPTIONAL - Question 2\n",
    "Let's analyze a discrete distribution. To analyze the number of defective items in a factory in the city of Medellín, we took a random sample of n = 60 articles and observed the number of defectives in the following table:\n",
    "\n",
    "![](table2.png)\n",
    "\n",
    "A poissón distribution was proposed since it is defined for x = 0,1,2,3, .... using the following model:\n",
    "\n",
    "![](image1.png)\n",
    "\n",
    "For some extra insights check the following link: https://online.stat.psu.edu/stat504/node/63/ \n",
    "\n",
    "Does the distribution of defective items follow this distribution?"
   ]
  },
  {
   "cell_type": "code",
   "execution_count": 12,
   "metadata": {},
   "outputs": [
    {
     "name": "stdout",
     "output_type": "stream",
     "text": [
      "reject the H0? True\n"
     ]
    }
   ],
   "source": [
    "# your code here\n",
    "## H0: mu == poisson variable\n",
    "sl = 0.05  ## significance level\n",
    "\n",
    "## get our observed values\n",
    "obs_values = np.array([32,15,9,4])\n",
    "n = obs_values.sum()\n",
    "\n",
    "## create our poisson distribution\n",
    "p = (np.array([32*1,15*2,9*3,4*4]).sum()/n)\n",
    "poisson_distribution = st.poisson(p)\n",
    "\n",
    "## get our expected values\n",
    "expected = np.array([poisson_distribution.pmf(i) for i in range(len(obs_values)-1)])\n",
    "exp_values = np.append(expected,1-expected.sum())*n\n",
    "\n",
    "## chi-square\n",
    "stat, p_value = st.chisquare(obs_values,f_exp=exp_values)\n",
    "print('reject the H0? %s' %(p_value < sl))"
   ]
  },
  {
   "cell_type": "markdown",
   "metadata": {},
   "source": [
    "## Question 3\n",
    "A quality control engineer takes a sample of 10 tires that come out of an assembly line, and would like to verify on the basis of the data that follows, if the number of tires with defects observed over 200 days, if it is true that 5% of all tires have defects (that is, if the sample comes from a binomial population with n = 10 and p = 0.05). \n",
    "\n",
    "![](table3.png)\n"
   ]
  },
  {
   "cell_type": "code",
   "execution_count": 14,
   "metadata": {},
   "outputs": [
    {
     "name": "stdout",
     "output_type": "stream",
     "text": [
      "reject the H0? True\n"
     ]
    }
   ],
   "source": [
    "# your answer here\n",
    "## H0: 5% with defect\n",
    "sl = 0.05  ## significance level\n",
    "\n",
    "## get our observed values\n",
    "obs_values = np.array([138,53,9])\n",
    "n = obs_values.sum()\n",
    "\n",
    "## create our binomial distribution\n",
    "binomial_dist = st.binom(10,0.05)\n",
    "\n",
    "## get our expected values\n",
    "expected = np.array([binomial_dist.pmf(i) for i in range(len(obs_values)-1)])\n",
    "exp_values = np.append(expected,1-expected.sum())*n\n",
    "\n",
    "## chi-square\n",
    "stat, p_value = st.chisquare(obs_values,f_exp=exp_values)\n",
    "print('reject the H0? %s' %(p_value < sl))"
   ]
  },
  {
   "cell_type": "markdown",
   "metadata": {},
   "source": [
    "## Question 4\n",
    "A researcher gathers information about the patterns of Physical Activity of children in the fifth grade of primary school of a public school. He defines three categories of physical activity (Low, Medium, High). He also inquires about the regular consumption of sugary drinks at school, and defines two categories (Yes = consumed, No = not consumed). We would like to evaluate if there is an association between patterns of physical activity and the consumption of sugary drinks for the children of this school, at a level of 5% significance. The results are in the following table: \n",
    "\n",
    "![](table4.png)"
   ]
  },
  {
   "cell_type": "code",
   "execution_count": 17,
   "metadata": {},
   "outputs": [
    {
     "name": "stdout",
     "output_type": "stream",
     "text": [
      "reject the H0? True\n"
     ]
    }
   ],
   "source": [
    "#your answer here\n",
    "## H0: association\n",
    "sl = 0.05  ## significance level\n",
    "\n",
    "## get our observed values\n",
    "obs_values = np.array([[32,12],[14,22],[6,9]])\n",
    "\n",
    "## chi-square\n",
    "stat, p_value, d_freedom, exp_values = st.chi2_contingency(obs_values)\n",
    "print('reject the H0? %s' %(p_value < sl)) ## no association between sugary drinks and physical activity"
   ]
  }
 ],
 "metadata": {
  "kernelspec": {
   "display_name": "Python 3",
   "language": "python",
   "name": "python3"
  },
  "language_info": {
   "codemirror_mode": {
    "name": "ipython",
    "version": 3
   },
   "file_extension": ".py",
   "mimetype": "text/x-python",
   "name": "python",
   "nbconvert_exporter": "python",
   "pygments_lexer": "ipython3",
   "version": "3.8.8"
  }
 },
 "nbformat": 4,
 "nbformat_minor": 2
}
