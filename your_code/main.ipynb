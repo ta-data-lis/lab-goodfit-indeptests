{
 "cells": [
  {
   "cell_type": "markdown",
   "metadata": {},
   "source": [
    "## Question 1\n",
    "The following table indicates the number of 6-point scores in an American rugby match in the 1979 season.\n",
    "\n",
    "![](table1.png)\n",
    "\n",
    "Based on these results, we create a Poisson distribution with the sample mean parameter  = 2.435. Is there any reason to believe that at a .05 level the number of scores is a Poisson variable?"
   ]
  },
  {
   "cell_type": "code",
   "execution_count": 1,
   "metadata": {},
   "outputs": [
    {
     "data": {
      "text/plain": [
       "Power_divergenceResult(statistic=5.5241721202561305, pvalue=0.5962698783659186)"
      ]
     },
     "execution_count": 1,
     "metadata": {},
     "output_type": "execute_result"
    }
   ],
   "source": [
    "# your answer here\n",
    "import math\n",
    "import numpy as np\n",
    "from scipy import stats\n",
    "\n",
    "miu = ((35*0)+(99*1)+(104*2)+(110*3)+(62*4)+(25*5)+(10*6)+(3*7))/448\n",
    "miu\n",
    "\n",
    "observed = [35,99,104,110,62,25,10,3]\n",
    "scores = [0,1,2,3,4,5,6,7]\n",
    "\n",
    "expected = []\n",
    "for score in scores:\n",
    "    expected.append((math.exp(-miu)*(miu**score))/math.factorial(score) * 448)\n",
    "\n",
    "observed = np.array(observed)\n",
    "expected = np.array(expected)\n",
    "\n",
    "stats.chisquare(observed, expected)\n",
    "\n",
    "# Test results suggest that the data follows a Poisson distribution"
   ]
  },
  {
   "cell_type": "markdown",
   "metadata": {},
   "source": [
    "## Question 2\n",
    "The following are the ordered values of a random sample of SAT scores (university entrance exam) for several students: 852, 875, 910, 933, 957, 963, 981, 998, 1010, 1015, 1018, 1023, 1035, 1048, 1063. In previous years, the scores were presented by N (985,50). Based on the sample, is there any reason to believe that there has been a change in the distribution of scores this year? Use the level alpha = 0.05. "
   ]
  },
  {
   "cell_type": "code",
   "execution_count": 10,
   "metadata": {},
   "outputs": [
    {
     "data": {
      "text/plain": [
       "(978.7333333333333, 60.8785311547146)"
      ]
     },
     "execution_count": 10,
     "metadata": {},
     "output_type": "execute_result"
    }
   ],
   "source": [
    "#your answer here\n",
    "\n",
    "#Expected\n",
    "x_bar = 985\n",
    "std = 50\n",
    "\n",
    "# Observed\n",
    "data = [852, 875, 910, 933, 957, 963, 981, 998, 1010, 1015, 1018, 1023, 1035, 1048, 1063]\n",
    "mean = np.mean(data)\n",
    "standard = np.std(data)\n",
    "\n",
    "mean,standard"
   ]
  },
  {
   "cell_type": "markdown",
   "metadata": {},
   "source": [
    "## Question 3\n",
    "Let's analyze a discrete distribution. To analyze the number of defective items in a factory in the city of Medellín, we took a random sample of n = 60 articles and observed the number of defectives in the following table:\n",
    "\n",
    "![](table2.png)\n",
    "\n",
    "A poissón distribution was proposed since it is defined for x = 0,1,2,3, .... using the following model:\n",
    "\n",
    "![](image1.png)\n",
    "\n",
    "Does the distribution of defective items follow this distribution?"
   ]
  },
  {
   "cell_type": "code",
   "execution_count": 3,
   "metadata": {},
   "outputs": [
    {
     "data": {
      "text/plain": [
       "Power_divergenceResult(statistic=260.07903199075946, pvalue=4.322239574680885e-56)"
      ]
     },
     "execution_count": 3,
     "metadata": {},
     "output_type": "execute_result"
    }
   ],
   "source": [
    "# your code here\n",
    "\n",
    "miu = ((32*0)+(15*1)+(9*3)+(4*4))/60\n",
    "miu\n",
    "\n",
    "observed = [32,15,9,4]\n",
    "scores = [0,1,3,4]\n",
    "\n",
    "expected = []\n",
    "for score in scores:\n",
    "    expected.append((math.exp(-miu)*(miu**score))/math.factorial(score) * 448)\n",
    "\n",
    "observed = np.array(observed)\n",
    "expected = np.array(expected)\n",
    "\n",
    "stats.chisquare(observed, expected)\n",
    "\n",
    "#There is strong evidence to reject null hypothesis -> distribution is not poisson"
   ]
  },
  {
   "cell_type": "markdown",
   "metadata": {},
   "source": [
    "## Question 4\n",
    "A quality control engineer takes a sample of 10 tires that come out of an assembly line, and would like to verify on the basis of the data that follows, if the number of tires with defects observed over 200 days, if it is true that 5% of all tires have defects (that is, if the sample comes from a binomial population with n = 10 and p = 0.05). \n",
    "\n",
    "![](table3.png)\n"
   ]
  },
  {
   "cell_type": "code",
   "execution_count": 4,
   "metadata": {},
   "outputs": [
    {
     "data": {
      "text/plain": [
       "Power_divergenceResult(statistic=191.98312677313956, pvalue=2.0483006930540248e-42)"
      ]
     },
     "execution_count": 4,
     "metadata": {},
     "output_type": "execute_result"
    }
   ],
   "source": [
    "# your answer here\n",
    "\n",
    "n = 10\n",
    "p = 0.05\n",
    "\n",
    "observed = [138,53,9]\n",
    "defectives = [0,1,2]\n",
    "\n",
    "expected = []\n",
    "for defective in defectives:\n",
    "    expected.append((math.factorial(n)/(math.factorial(defective)*math.factorial(n-defective))*(p**defective)*((1-p)**(n-defective)))*200)\n",
    "    \n",
    "defectives = np.array(defectives)\n",
    "expected = np.array(expected)\n",
    "\n",
    "stats.chisquare(defectives,expected)\n",
    "\n",
    "#There is strong evidence to reject null hypothesis -> distribution is not binomial"
   ]
  },
  {
   "cell_type": "markdown",
   "metadata": {},
   "source": [
    "## Question 5\n",
    "A researcher gathers information about the patterns of Physical Activity of children in the fifth grade of primary school of a public school. He defines three categories of physical activity (Low, Medium, High). He also inquires about the regular consumption of sugary drinks at school, and defines two categories (Yes = consumed, No = not consumed). We would like to evaluate if there is an association between patterns of physical activity and the consumption of sugary drinks for the children of this school, at a level of 5% significance. The results are in the following table: \n",
    "\n",
    "![](table4.png)"
   ]
  },
  {
   "cell_type": "code",
   "execution_count": 6,
   "metadata": {},
   "outputs": [
    {
     "data": {
      "text/plain": [
       "(10.712198008709638,\n",
       " 0.004719280137040844,\n",
       " 2,\n",
       " array([[24.08421053, 19.91578947],\n",
       "        [19.70526316, 16.29473684],\n",
       "        [ 8.21052632,  6.78947368]]))"
      ]
     },
     "execution_count": 6,
     "metadata": {},
     "output_type": "execute_result"
    }
   ],
   "source": [
    "#your answer here\n",
    "import pandas as pd\n",
    "\n",
    "contingency = pd.DataFrame()\n",
    "\n",
    "contingency['Yes'] = [32,14,6]\n",
    "contingency['No'] = [12,22,9]\n",
    "contingency['Activity'] = ['Low','Medium','High']\n",
    "\n",
    "contingency = contingency.set_index('Activity')\n",
    "\n",
    "stats.chi2_contingency(contingency)\n",
    "\n",
    "# We reject null hypothesis "
   ]
  }
 ],
 "metadata": {
  "kernelspec": {
   "display_name": "Python 3",
   "language": "python",
   "name": "python3"
  },
  "language_info": {
   "codemirror_mode": {
    "name": "ipython",
    "version": 3
   },
   "file_extension": ".py",
   "mimetype": "text/x-python",
   "name": "python",
   "nbconvert_exporter": "python",
   "pygments_lexer": "ipython3",
   "version": "3.7.4"
  }
 },
 "nbformat": 4,
 "nbformat_minor": 4
}
