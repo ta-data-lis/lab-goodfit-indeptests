{
 "cells": [
  {
   "cell_type": "markdown",
   "metadata": {},
   "source": [
    "## Question 1\n",
    "The following table indicates the number of 6-point scores in an American rugby match in the 1979 season.\n",
    "\n",
    "![](table1.png)\n",
    "\n",
    "Based on these results, we create a Poisson distribution with the sample mean parameter  = 2.435. Is there any reason to believe that at a .05 level the number of scores is a Poisson variable?"
   ]
  },
  {
   "cell_type": "code",
   "execution_count": 3,
   "metadata": {},
   "outputs": [
    {
     "data": {
      "text/plain": [
       "Power_divergenceResult(statistic=6.491310681109821, pvalue=0.4836889068537269)"
      ]
     },
     "execution_count": 3,
     "metadata": {},
     "output_type": "execute_result"
    }
   ],
   "source": [
    "# your answer here\n",
    "import pandas as pd\n",
    "import numpy as np\n",
    "from scipy.stats import ttest_1samp, ttest_rel, ttest_ind\n",
    "from scipy.stats import f_oneway\n",
    "from scipy.stats import poisson\n",
    "from scipy import stats\n",
    "# Poisson distrubition means how many times incident occour in timeframe\n",
    "#H0:The given sample data follows the poisson distribuition\n",
    "#H1: The given sample data doesn't follow the poisson distribuition\n",
    "total_times_of_observation=448\n",
    "mu=2.435 # given in the sample data\n",
    "times=[35,99,104,110,62,25,10,3]\n",
    "numberof_scores=[0,1,2,3,4,5,6,7]\n",
    "num_of_scores=len(numberof_scores)\n",
    "probablity= [poisson.pmf(i,mu) for i in range(num_of_scores -1)]\n",
    "probablity.append(1-sum(probablity))\n",
    "expected_value= [p*total_times_of_observation for p in probablity]\n",
    "stats.chisquare(times, f_exp=expected_value)"
   ]
  },
  {
   "cell_type": "markdown",
   "metadata": {},
   "source": [
    "## BONUS/OPTIONAL - Question 2\n",
    "Let's analyze a discrete distribution. To analyze the number of defective items in a factory in the city of Medellín, we took a random sample of n = 60 articles and observed the number of defectives in the following table:\n",
    "\n",
    "![](table2.png)\n",
    "\n",
    "A poissón distribution was proposed since it is defined for x = 0,1,2,3, .... using the following model:\n",
    "\n",
    "![](image1.png)\n",
    "\n",
    "For some extra insights check the following link: https://online.stat.psu.edu/stat504/node/63/ \n",
    "\n",
    "Does the distribution of defective items follow this distribution?"
   ]
  },
  {
   "cell_type": "code",
   "execution_count": null,
   "metadata": {},
   "outputs": [],
   "source": [
    "# your code here"
   ]
  },
  {
   "cell_type": "markdown",
   "metadata": {},
   "source": [
    "## Question 3\n",
    "A quality control engineer takes a sample of 10 tires that come out of an assembly line, and would like to verify on the basis of the data that follows, if the number of tires with defects observed over 200 days, if it is true that 5% of all tires have defects (that is, if the sample comes from a binomial population with n = 10 and p = 0.05). \n",
    "\n",
    "![](table3.png)\n"
   ]
  },
  {
   "cell_type": "code",
   "execution_count": 7,
   "metadata": {},
   "outputs": [
    {
     "data": {
      "text/plain": [
       "Power_divergenceResult(statistic=8.306179519542805, pvalue=0.015715783395950887)"
      ]
     },
     "execution_count": 7,
     "metadata": {},
     "output_type": "execute_result"
    }
   ],
   "source": [
    "# your answer here\n",
    "from scipy.stats import binom\n",
    "#H0: This sample follows the binomial distribuition\n",
    "#H1: This sample doesn't follows the binomial distribuition\n",
    "total_observation=200\n",
    "n=10\n",
    "p=0.05\n",
    "observed_freq=[138,53,9]\n",
    "num_defectives=[0,1,2]\n",
    "num_of_defect=len(num_defectives)\n",
    "probability= [binom.pmf(i,n,0.05) for i in range(num_of_defect -1)]\n",
    "probability.append(1-sum(probability))\n",
    "expected=[p*total_observation for p in probability]\n",
    "#stats.chisquare(times, f_exp=expected_value)\n",
    "stats.chisquare(observed_freq, f_exp=expected)"
   ]
  },
  {
   "cell_type": "markdown",
   "metadata": {},
   "source": [
    "## Question 4\n",
    "A researcher gathers information about the patterns of Physical Activity of children in the fifth grade of primary school of a public school. He defines three categories of physical activity (Low, Medium, High). He also inquires about the regular consumption of sugary drinks at school, and defines two categories (Yes = consumed, No = not consumed). We would like to evaluate if there is an association between patterns of physical activity and the consumption of sugary drinks for the children of this school, at a level of 5% significance. The results are in the following table: \n",
    "\n",
    "![](table4.png)"
   ]
  },
  {
   "cell_type": "code",
   "execution_count": 15,
   "metadata": {},
   "outputs": [
    {
     "name": "stdout",
     "output_type": "stream",
     "text": [
      "Null hypothesis can't be rejected\n"
     ]
    },
    {
     "data": {
      "text/plain": [
       "(10.712198008709638, 117.63165114234555)"
      ]
     },
     "execution_count": 15,
     "metadata": {},
     "output_type": "execute_result"
    }
   ],
   "source": [
    "#your answer here\n",
    "observed = [32,12, 14,22, 6,9]\n",
    "expected = [44*52/95, 44*43/95, 36*52/95, 36*43/95, 15*52/95, 15*43/95]\n",
    "chi = sum((np.array(observed) - np.array(expected))**2 / np.array(expected))\n",
    "dof = 95-1\n",
    "alpha = 0.05\n",
    "critical_value = stats.chi2.ppf(q = 1 - alpha, df = dof)\n",
    "print(\"Null hypothesis rejected\") if critical_value < chi else \\\n",
    "print(\"Null hypothesis can't be rejected\")\n",
    "chi, critical_value"
   ]
  }
 ],
 "metadata": {
  "kernelspec": {
   "display_name": "Python 3",
   "language": "python",
   "name": "python3"
  },
  "language_info": {
   "codemirror_mode": {
    "name": "ipython",
    "version": 3
   },
   "file_extension": ".py",
   "mimetype": "text/x-python",
   "name": "python",
   "nbconvert_exporter": "python",
   "pygments_lexer": "ipython3",
   "version": "3.9.13"
  },
  "vscode": {
   "interpreter": {
    "hash": "e020906fa7e3535df709f577a0c34a51a372f857bf336a061e4c0bbd2989cbd1"
   }
  }
 },
 "nbformat": 4,
 "nbformat_minor": 2
}
