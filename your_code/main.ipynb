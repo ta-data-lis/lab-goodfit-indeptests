{
 "cells": [
  {
   "cell_type": "markdown",
   "metadata": {},
   "source": [
    "## Question 1\n",
    "The following table indicates the number of 6-point scores in an American rugby match in the 1979 season.\n",
    "\n",
    "![](table1.png)\n",
    "\n",
    "Based on these results, we create a Poisson distribution with the sample mean parameter  = 2.435. Is there any reason to believe that at a .05 level the number of scores is a Poisson variable?"
   ]
  },
  {
   "cell_type": "code",
   "execution_count": 15,
   "metadata": {},
   "outputs": [
    {
     "name": "stdout",
     "output_type": "stream",
     "text": [
      "Chi-squared statistic: 6.491310681109821\n",
      "P-value: 0.4836889068537269\n",
      "Fail to reject the null hypothesis: The data follows a Poisson distribution.\n"
     ]
    }
   ],
   "source": [
    "import pandas as pd\n",
    "import numpy as np\n",
    "import scipy.stats as st\n",
    "\n",
    "from scipy.stats import poisson\n",
    "\n",
    "significance = 0.05\n",
    "mu = 2.435\n",
    "f_obs = np.array([35, 99, 104, 110, 62, 25, 10, 3])\n",
    "poisson_dist = poisson(mu)\n",
    "\n",
    "poisson_pmfs = np.array([poisson_dist.pmf(i) for i in range(0, 7)])\n",
    "poisson_pmfs_last = np.append(poisson_pmfs, 1 - poisson_pmfs.sum())\n",
    "f_exp = poisson_pmfs_last * 448\n",
    "\n",
    "# Perform the chi-squared goodness-of-fit test\n",
    "chi_squared, p_value = st.chisquare(f_obs=f_obs, f_exp=f_exp)\n",
    "\n",
    "# Compare p-value with significance level\n",
    "if p_value < significance:\n",
    "    result = \"Reject the null hypothesis: The data does not follow a Poisson distribution.\"\n",
    "else:\n",
    "    result = \"Fail to reject the null hypothesis: The data follows a Poisson distribution.\"\n",
    "\n",
    "print(\"Chi-squared statistic:\", chi_squared)\n",
    "print(\"P-value:\", p_value)\n",
    "print(result)"
   ]
  },
  {
   "cell_type": "markdown",
   "metadata": {},
   "source": [
    "## BONUS/OPTIONAL - Question 2\n",
    "Let's analyze a discrete distribution. To analyze the number of defective items in a factory in the city of Medellín, we took a random sample of n = 60 articles and observed the number of defectives in the following table:\n",
    "\n",
    "![](table2.png)\n",
    "\n",
    "A poissón distribution was proposed since it is defined for x = 0,1,2,3, .... using the following model:\n",
    "\n",
    "![](image1.png)\n",
    "\n",
    "For some extra insights check the following link: https://online.stat.psu.edu/stat504/node/63/ \n",
    "\n",
    "Does the distribution of defective items follow this distribution?"
   ]
  },
  {
   "cell_type": "code",
   "execution_count": 16,
   "metadata": {},
   "outputs": [],
   "source": [
    "# your code here"
   ]
  },
  {
   "cell_type": "markdown",
   "metadata": {},
   "source": [
    "## Question 3\n",
    "A quality control engineer takes a sample of 10 tires that come out of an assembly line, and would like to verify on the basis of the data that follows, if the number of tires with defects observed over 200 days, if it is true that 5% of all tires have defects (that is, if the sample comes from a binomial population with n = 10 and p = 0.05). \n",
    "\n",
    "![](table3.png)\n"
   ]
  },
  {
   "cell_type": "code",
   "execution_count": 17,
   "metadata": {},
   "outputs": [
    {
     "name": "stdout",
     "output_type": "stream",
     "text": [
      "We can reject the null hypothesis\n",
      "p-value: 0.015715783395950887\n"
     ]
    }
   ],
   "source": [
    "from scipy.stats import binom\n",
    "\n",
    "# H0: The sample comes from a binomial population (with n = 10 and p = 0.05)\n",
    "# H1: The sample does not come from a binomial population (with n = 10 and p = 0.05)\n",
    "\n",
    "# Observed frequencies of defective tires\n",
    "O = np.array([138, 53, 9])\n",
    "\n",
    "population = O.sum()\n",
    "n = 10\n",
    "p = 0.05\n",
    "alpha = 0.05 \n",
    "\n",
    "binom_dist = binom(n, p)\n",
    "\n",
    "\n",
    "# Calculate the entire PMF for 0 to 2 or more\n",
    "binom_pmfs = np.array([binom_dist.pmf(i) for i in range(0, 2)])\n",
    "\n",
    "tail = 1 - binom_pmfs.sum()\n",
    "\n",
    "binom_with_tail = np.append(binom_pmfs, tail)\n",
    "\n",
    "E = binom_with_tail * population\n",
    "\n",
    "chisquare_result = st.chisquare(f_obs = O, f_exp = E)\n",
    "\n",
    "if chisquare_result.pvalue < alpha:\n",
    "    print(\"We can reject the null hypothesis\")\n",
    "else:\n",
    "    print(\"We can not reject the null hypothesis\")\n",
    "    \n",
    "print(\"p-value:\", chisquare_result.pvalue)"
   ]
  },
  {
   "cell_type": "markdown",
   "metadata": {},
   "source": [
    " Since this p-value is less than the chosen significance level (alpha = 0.05), i can reject the null hypothesis. This suggests that there is evidence to believe that the observed data does not follow a binomial distribution.The result indicates that the distribution of defective tires in the sample significantly deviates from what would be expected under the assumed binomial distribution."
   ]
  },
  {
   "cell_type": "markdown",
   "metadata": {},
   "source": [
    "## Question 4\n",
    "A researcher gathers information about the patterns of Physical Activity of children in the fifth grade of primary school of a public school. He defines three categories of physical activity (Low, Medium, High). He also inquires about the regular consumption of sugary drinks at school, and defines two categories (Yes = consumed, No = not consumed). We would like to evaluate if there is an association between patterns of physical activity and the consumption of sugary drinks for the children of this school, at a level of 5% significance. The results are in the following table: \n",
    "\n",
    "![](table4.png)"
   ]
  },
  {
   "cell_type": "code",
   "execution_count": 18,
   "metadata": {},
   "outputs": [
    {
     "name": "stdout",
     "output_type": "stream",
     "text": [
      "Chi-squared statistic: 10.712198008709638\n",
      "P-value: 0.004719280137040844\n",
      "Degrees of freedom: 2\n",
      "Expected frequencies:\n",
      " [[24.08421053 19.91578947]\n",
      " [19.70526316 16.29473684]\n",
      " [ 8.21052632  6.78947368]]\n",
      "We can reject the null hypothesis\n"
     ]
    }
   ],
   "source": [
    "from scipy.stats import chi2_contingency\n",
    "\n",
    "#Hypothesis\n",
    "\n",
    "#H0 : Physical Activity is independent of sugar drinks consumption \n",
    "#H1 : Physical Activity is not independent of sugar drinks consumption\n",
    "\n",
    "alpha = 0.05\n",
    "\n",
    "\n",
    "children = [[32, 12],\n",
    "           [14, 22],\n",
    "           [6,9]]\n",
    "\n",
    "chi2_stat, p_val, dof, expected = chi2_contingency(children)\n",
    "\n",
    "print(\"Chi-squared statistic:\", chi2_stat)\n",
    "print(\"P-value:\", p_val)\n",
    "print(\"Degrees of freedom:\", dof)\n",
    "print(\"Expected frequencies:\\n\", expected)\n",
    "\n",
    "if p_val < alpha:\n",
    "    print(\"We can reject the null hypothesis\")\n",
    "else:\n",
    "    print(\"We cannot reject the null hypothesis\")"
   ]
  },
  {
   "cell_type": "code",
   "execution_count": 19,
   "metadata": {},
   "outputs": [],
   "source": [
    "#The rejection of the null hypothesis suggests that there might be a meaningful connection between physical activity and sugar drinks consumption"
   ]
  }
 ],
 "metadata": {
  "kernelspec": {
   "display_name": "Python 3",
   "language": "python",
   "name": "python3"
  },
  "language_info": {
   "codemirror_mode": {
    "name": "ipython",
    "version": 3
   },
   "file_extension": ".py",
   "mimetype": "text/x-python",
   "name": "python",
   "nbconvert_exporter": "python",
   "pygments_lexer": "ipython3",
   "version": "3.10.9"
  }
 },
 "nbformat": 4,
 "nbformat_minor": 2
}
