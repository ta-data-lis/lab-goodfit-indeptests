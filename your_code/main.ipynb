{
 "cells": [
  {
   "cell_type": "code",
   "execution_count": 19,
   "metadata": {},
   "outputs": [],
   "source": [
    "import scipy.stats as st\n",
    "import numpy as np\n",
    "from scipy.stats import poisson\n",
    "from scipy.stats import binom"
   ]
  },
  {
   "cell_type": "markdown",
   "metadata": {},
   "source": [
    "## Question 1\n",
    "The following table indicates the number of 6-point scores in an American rugby match in the 1979 season.\n",
    "\n",
    "![](table1.png)\n",
    "\n",
    "Based on these results, we create a Poisson distribution with the sample mean parameter  = 2.435. Is there any reason to believe that at a .05 level the number of scores is a Poisson variable?"
   ]
  },
  {
   "cell_type": "code",
   "execution_count": 18,
   "metadata": {},
   "outputs": [
    {
     "name": "stdout",
     "output_type": "stream",
     "text": [
      "We do not reject the null hypothesis!\n"
     ]
    }
   ],
   "source": [
    "# Set the Hypothesis\n",
    "    # H0: scores ~ poisson (x_hat = 2.435)\n",
    "    # H1: scores !~ poisson (x_hat = 2.435)\n",
    "\n",
    "# Choose significance level\n",
    "α = 0.05\n",
    "\n",
    "# Sample\n",
    "    # Expected values under poisson distribution\n",
    "lamb = 2.435\n",
    "poisson_dist = poisson(lamb)\n",
    "E = np.array([poisson_dist.pmf(i) for i in range(7)]) # probability of scoring \n",
    "                                                      # 1-6 times in a game\n",
    "E = np.append(E, poisson_dist.sf(6)) # probability of scoring \n",
    "                                     # 7+ times in a game\n",
    "E = E*448 # calculating nr of expected times based on probability\n",
    "\n",
    "    # Observed Values\n",
    "O = np.array([35,99,104,110,62,25,10,3])\n",
    "\n",
    "# Compute Statistic & Get p-value\n",
    "stat, p_value = st.chisquare(f_obs=O,f_exp=E)\n",
    "\n",
    "# Decide\n",
    "if p_value < α :\n",
    "    print(\"We reject the null hypothesis!\")\n",
    "else:\n",
    "    print(\"We do not reject the null hypothesis!\")"
   ]
  },
  {
   "cell_type": "markdown",
   "metadata": {},
   "source": [
    "## BONUS/OPTIONAL - Question 2\n",
    "Let's analyze a discrete distribution. To analyze the number of defective items in a factory in the city of Medellín, we took a random sample of n = 60 articles and observed the number of defectives in the following table:\n",
    "\n",
    "![](table2.png)\n",
    "\n",
    "A poissón distribution was proposed since it is defined for x = 0,1,2,3, .... using the following model:\n",
    "\n",
    "![](image1.png)\n",
    "\n",
    "For some extra insights check the following link: https://online.stat.psu.edu/stat504/node/63/ \n",
    "\n",
    "Does the distribution of defective items follow this distribution?"
   ]
  },
  {
   "cell_type": "code",
   "execution_count": null,
   "metadata": {},
   "outputs": [],
   "source": [
    "# your code here"
   ]
  },
  {
   "cell_type": "markdown",
   "metadata": {},
   "source": [
    "## Question 3\n",
    "A quality control engineer takes a sample of 10 tires that come out of an assembly line, and would like to verify on the basis of the data that follows, if the number of tires with defects observed over 200 days, if it is true that 5% of all tires have defects (that is, if the sample comes from a binomial population with n = 10 and p = 0.05). \n",
    "\n",
    "![](table3.png)\n"
   ]
  },
  {
   "cell_type": "code",
   "execution_count": 28,
   "metadata": {},
   "outputs": [
    {
     "name": "stdout",
     "output_type": "stream",
     "text": [
      "We reject the null hypothesis!\n"
     ]
    }
   ],
   "source": [
    "# Set the Hypothesis\n",
    "    # H0: scores ~ binomial (n = 10, p = 0.05)\n",
    "    # H1: scores !~ binomial (n = 10, p = 0.05)\n",
    "\n",
    "# Choose significance level\n",
    "α = 0.05\n",
    "\n",
    "# Sample\n",
    "    # Expected values under binomial distribution\n",
    "n = 10\n",
    "p = 0.05\n",
    "binom_dist = binom(n,p)\n",
    "E = np.array([binom_dist.pmf(i) for i in range(2)]) # probability of finding \n",
    "                                                    # 1/2 defective items\n",
    "E = np.append(E, binom_dist.sf(1)) # probability of finding \n",
    "                                   # 2+ defective items\n",
    "E = E*(138+53+9) # calculating nr of expected times based on probability\n",
    "\n",
    "    # Observed Values\n",
    "O = np.array([138,53,9])\n",
    "\n",
    "# Compute Statistic & Get p-value\n",
    "stat, p_value = st.chisquare(f_obs=O,f_exp=E)\n",
    "\n",
    "# Decide\n",
    "if p_value < α :\n",
    "    print(\"We reject the null hypothesis!\")\n",
    "else:\n",
    "    print(\"We do not reject the null hypothesis!\")"
   ]
  },
  {
   "cell_type": "markdown",
   "metadata": {},
   "source": [
    "## Question 4\n",
    "A researcher gathers information about the patterns of Physical Activity of children in the fifth grade of primary school of a public school. He defines three categories of physical activity (Low, Medium, High). He also inquires about the regular consumption of sugary drinks at school, and defines two categories (Yes = consumed, No = not consumed). We would like to evaluate if there is an association between patterns of physical activity and the consumption of sugary drinks for the children of this school, at a level of 5% significance. The results are in the following table: \n",
    "\n",
    "![](table4.png)"
   ]
  },
  {
   "cell_type": "code",
   "execution_count": 29,
   "metadata": {},
   "outputs": [
    {
     "name": "stdout",
     "output_type": "stream",
     "text": [
      "We reject the null hypothesis!\n"
     ]
    }
   ],
   "source": [
    "# Set the Hypothesis\n",
    "    # H0: physical activity INDEPENDENT consumption of sugary drinks\n",
    "    # H1: physical activity DEPENDENT consumption of sugary drinks\n",
    "\n",
    "# Choose significance level\n",
    "α = 0.05\n",
    "\n",
    "# Sample\n",
    "sugary_table = np.array([\n",
    "                        [32,12],\n",
    "                        [14,22],\n",
    "                        [6,9]\n",
    "                            ])\n",
    "\n",
    "# Compute Statistic & # Get p-value\n",
    "stat, p_value, df, E = st.chi2_contingency(sugary_table)\n",
    "\n",
    "# Decide\n",
    "if p_value < α :\n",
    "    print(\"We reject the null hypothesis!\")\n",
    "else:\n",
    "    print(\"We do not reject the null hypothesis!\")"
   ]
  }
 ],
 "metadata": {
  "kernelspec": {
   "display_name": "Python 3.9.12 ('base')",
   "language": "python",
   "name": "python3"
  },
  "language_info": {
   "codemirror_mode": {
    "name": "ipython",
    "version": 3
   },
   "file_extension": ".py",
   "mimetype": "text/x-python",
   "name": "python",
   "nbconvert_exporter": "python",
   "pygments_lexer": "ipython3",
   "version": "3.9.12"
  },
  "vscode": {
   "interpreter": {
    "hash": "6d14bccc84a4433e5705525915489399e585d86ac1dbac958d08e00ec386d7c1"
   }
  }
 },
 "nbformat": 4,
 "nbformat_minor": 2
}
