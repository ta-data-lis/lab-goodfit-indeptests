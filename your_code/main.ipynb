{
 "cells": [
  {
   "cell_type": "markdown",
   "metadata": {},
   "source": [
    "## Question 1\n",
    "The following table indicates the number of 6-point scores in an American rugby match in the 1979 season.\n",
    "\n",
    "![](table1.png)\n",
    "\n",
    "Based on these results, we create a Poisson distribution with the sample mean parameter  = 2.435. Is there any reason to believe that at a .05 level the number of scores is a Poisson variable?"
   ]
  },
  {
   "cell_type": "code",
   "execution_count": 4,
   "metadata": {},
   "outputs": [
    {
     "name": "stdout",
     "output_type": "stream",
     "text": [
      "6.491310681109792 0.48368890685373034\n",
      "False\n",
      "We don't have enough evidence to state that the number of scores in this data is a poisson distribution with mu = 2.435\n"
     ]
    }
   ],
   "source": [
    "# your answer here\n",
    "import scipy.stats as st\n",
    "from scipy.stats import poisson\n",
    "import numpy as np\n",
    "\n",
    "#H0: mu distrib = 2.435\n",
    "#H1: mu distrib != 2.435\n",
    "\n",
    "alpha = 0.05\n",
    "\n",
    "OV = [35,99,104,110,62,25,10,3]\n",
    "\n",
    "lamb = 2.435\n",
    "poisson_dist = poisson(lamb)\n",
    "poiss_pmfs = np.array([poisson_dist.pmf(i) for i in range(0,7)])\n",
    "with_tail = np.append(poiss_pmfs, poisson_dist.sf(6))\n",
    "\n",
    "EV = with_tail * 448\n",
    "\n",
    "stat, p_value = st.chisquare(OV, EV)\n",
    "print(stat, p_value)\n",
    "print(p_value<alpha)\n",
    "print(\"We don't have enough evidence to state that the number of scores in this data is a poisson distribution with mu = 2.435\")"
   ]
  },
  {
   "cell_type": "markdown",
   "metadata": {},
   "source": [
    "## BONUS/OPTIONAL - Question 2\n",
    "Let's analyze a discrete distribution. To analyze the number of defective items in a factory in the city of Medellín, we took a random sample of n = 60 articles and observed the number of defectives in the following table:\n",
    "\n",
    "![](table2.png)\n",
    "\n",
    "A poissón distribution was proposed since it is defined for x = 0,1,2,3, .... using the following model:\n",
    "\n",
    "![](image1.png)\n",
    "\n",
    "For some extra insights check the following link: https://online.stat.psu.edu/stat504/node/63/ \n",
    "\n",
    "Does the distribution of defective items follow this distribution?"
   ]
  },
  {
   "cell_type": "code",
   "execution_count": 31,
   "metadata": {},
   "outputs": [
    {
     "name": "stdout",
     "output_type": "stream",
     "text": [
      "8.390375814837595 0.0037721290980675714\n",
      "True\n",
      "We have enough evidence to say with a 95% confidence level that the number of defective items follow a poisson distribution\n"
     ]
    }
   ],
   "source": [
    "# your code here\n",
    "\n",
    "#H0: distrib ~ poisson\n",
    "#H1: distrib !~ poisson\n",
    "\n",
    "alpha = 0.05\n",
    "\n",
    "OV = [32,15,13]  # Got the error \"shapes (4,) and (3,) could not be broadcast together\" during the first try, so I joined the last two elements.\n",
    "\n",
    "mean = np.array([0*32, 1*15, 3*9, 4*4]).sum()/60\n",
    "p = 1/mean\n",
    "\n",
    "poiss_dist = poisson(p)\n",
    "\n",
    "poiss_pmfs = np.array([poiss_dist.pmf(i) for i in range(0,2)])\n",
    "with_tail = np.append(poiss_pmfs, poiss_dist.sf(1))\n",
    "\n",
    "\n",
    "EV = with_tail * 60\n",
    "\n",
    "stat, p_value = st.chisquare(OV, EV, ddof=1)\n",
    "print(stat, p_value)\n",
    "print(p_value<alpha)\n",
    "print(\"We have enough evidence to say with a 95% confidence level that the number of defective items follow a poisson distribution\")"
   ]
  },
  {
   "cell_type": "markdown",
   "metadata": {},
   "source": [
    "## Question 3\n",
    "A quality control engineer takes a sample of 10 tires that come out of an assembly line, and would like to verify on the basis of the data that follows, if the number of tires with defects observed over 200 days, if it is true that 5% of all tires have defects (that is, if the sample comes from a binomial population with n = 10 and p = 0.05). \n",
    "\n",
    "![](table3.png)\n"
   ]
  },
  {
   "cell_type": "code",
   "execution_count": 39,
   "metadata": {},
   "outputs": [
    {
     "name": "stdout",
     "output_type": "stream",
     "text": [
      "8.30617951954277 0.015715783395951168\n",
      "True\n",
      "We have enough evidence to say with a 95% confidence level that the number of defective items follow a binomial distribution\n"
     ]
    }
   ],
   "source": [
    "# your answer here\n",
    "from scipy.stats import binom\n",
    "\n",
    "#H0: distrib ~ binomial (n=10, p=0,05)\n",
    "#H1: distrib !~ binomial (n=10, p=0,05)\n",
    "\n",
    "alpha = 0.05\n",
    "\n",
    "OV = [138,53,9]\n",
    "\n",
    "n = 10\n",
    "p = 0.05\n",
    "bin_dist = binom(n, p)\n",
    "\n",
    "bin_pmfs = np.array([bin_dist.pmf(i) for i in range(0,2)])\n",
    "with_tail = np.append(bin_pmfs, bin_dist.sf(1))\n",
    "EV = with_tail * 200\n",
    "\n",
    "stat, p_value = st.chisquare(OV, EV)\n",
    "print(stat, p_value)\n",
    "print(p_value<alpha)\n",
    "print(\"We have enough evidence to say with a 95% confidence level that the number of defective items follow a binomial distribution\")"
   ]
  },
  {
   "cell_type": "markdown",
   "metadata": {},
   "source": [
    "## Question 4\n",
    "A researcher gathers information about the patterns of Physical Activity of children in the fifth grade of primary school of a public school. He defines three categories of physical activity (Low, Medium, High). He also inquires about the regular consumption of sugary drinks at school, and defines two categories (Yes = consumed, No = not consumed). We would like to evaluate if there is an association between patterns of physical activity and the consumption of sugary drinks for the children of this school, at a level of 5% significance. The results are in the following table: \n",
    "\n",
    "![](table4.png)"
   ]
  },
  {
   "cell_type": "code",
   "execution_count": 41,
   "metadata": {},
   "outputs": [
    {
     "name": "stdout",
     "output_type": "stream",
     "text": [
      "(10.206076991791281, 0.006078249741592269, 2, array([[24.34042553, 19.65957447],\n",
      "       [19.91489362, 16.08510638],\n",
      "       [ 7.74468085,  6.25531915]]))\n",
      "True\n",
      "We gathered enough evidence to say with a 95% confidence that both variables are dependent of each other.\n"
     ]
    }
   ],
   "source": [
    "#your answer here\n",
    "\n",
    "#H0: The physical activity is INDEPENDENT of sugary drinks\n",
    "#H1: The physical activity is DEPENDENT of sugary drinks\n",
    "\n",
    "alpha = 0.05\n",
    "\n",
    "patterns = np.array([[32,12],\n",
    "                     [14,22],\n",
    "                     [6,8]])\n",
    "\n",
    "print(st.chi2_contingency(patterns))\n",
    "print(p_value<alpha)\n",
    "print(\"We gathered enough evidence to say with a 95% confidence that both variables are dependent of each other.\")"
   ]
  }
 ],
 "metadata": {
  "kernelspec": {
   "display_name": "Python 3.9.12 ('ironhack')",
   "language": "python",
   "name": "python3"
  },
  "language_info": {
   "codemirror_mode": {
    "name": "ipython",
    "version": 3
   },
   "file_extension": ".py",
   "mimetype": "text/x-python",
   "name": "python",
   "nbconvert_exporter": "python",
   "pygments_lexer": "ipython3",
   "version": "3.9.12"
  },
  "vscode": {
   "interpreter": {
    "hash": "0094f863879e23567bc7f1203464ab0e17c9a144de34e46277031dbb63b00f13"
   }
  }
 },
 "nbformat": 4,
 "nbformat_minor": 2
}
