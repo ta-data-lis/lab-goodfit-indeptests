{
 "cells": [
  {
   "cell_type": "markdown",
   "metadata": {},
   "source": [
    "## Question 1\n",
    "The following table indicates the number of 6-point scores in an American rugby match in the 1979 season.\n",
    "\n",
    "![](table1.png)\n",
    "\n",
    "Based on these results, we create a Poisson distribution with the sample mean parameter  = 2.435. Is there any reason to believe that at a .05 level the number of scores is a Poisson variable?"
   ]
  },
  {
   "cell_type": "code",
   "execution_count": 8,
   "metadata": {},
   "outputs": [
    {
     "name": "stdout",
     "output_type": "stream",
     "text": [
      "0.48368890685373034\n",
      "we do not reject h0\n"
     ]
    }
   ],
   "source": [
    "# your answer here\n",
    "significance = 0.05\n",
    "from scipy.stats import poisson\n",
    "import scipy.stats as st\n",
    "import numpy as np\n",
    "\n",
    "s_mean = st.poisson(2.435)\n",
    "probabilities = np.array([s_mean.pmf(i) for i in range(7)])\n",
    "probabilities = np.append(probabilities, s_mean.sf(6))\n",
    "probabilities.sum()\n",
    "O = np.array([35,99,104,110,62,25,10,3])\n",
    "E = probabilities * O.sum()\n",
    "stat, pvalue  = st.chisquare(f_obs=O, f_exp=E)\n",
    "print(pvalue)\n",
    "\n",
    "if pvalue > significance:\n",
    "    print('we do not reject h0')\n",
    "else:\n",
    "    print('we reject h0')\n",
    "\n"
   ]
  },
  {
   "cell_type": "markdown",
   "metadata": {},
   "source": [
    "## BONUS/OPTIONAL - Question 2\n",
    "Let's analyze a discrete distribution. To analyze the number of defective items in a factory in the city of Medellín, we took a random sample of n = 60 articles and observed the number of defectives in the following table:\n",
    "\n",
    "![](table2.png)\n",
    "\n",
    "A poissón distribution was proposed since it is defined for x = 0,1,2,3, .... using the following model:\n",
    "\n",
    "![](image1.png)\n",
    "\n",
    "For some extra insights check the following link: https://online.stat.psu.edu/stat504/node/63/ \n",
    "\n",
    "Does the distribution of defective items follow this distribution?"
   ]
  },
  {
   "cell_type": "code",
   "execution_count": 9,
   "metadata": {},
   "outputs": [],
   "source": [
    "# your code here"
   ]
  },
  {
   "cell_type": "markdown",
   "metadata": {},
   "source": [
    "## Question 3\n",
    "A quality control engineer takes a sample of 10 tires that come out of an assembly line, and would like to verify on the basis of the data that follows, if the number of tires with defects observed over 200 days, if it is true that 5% of all tires have defects (that is, if the sample comes from a binomial population with n = 10 and p = 0.05). \n",
    "\n",
    "![](table3.png)\n"
   ]
  },
  {
   "cell_type": "code",
   "execution_count": 10,
   "metadata": {},
   "outputs": [
    {
     "name": "stdout",
     "output_type": "stream",
     "text": [
      "0.9999999999999998\n",
      "0.015715783395951168\n",
      "we reject h0\n"
     ]
    }
   ],
   "source": [
    "# your answer here\n",
    "significance = 0.05\n",
    "\n",
    "distribution = st.binom(n=10, p=p)\n",
    "observed = np.array([138, 53, 9])\n",
    "probs = np.array([distribution.pmf(i) for i in range(2)])\n",
    "probs = np.append(probs, distribution.sf(1))\n",
    "print(probs.sum())\n",
    "E = probs * observed.sum()\n",
    "\n",
    "stat, pvalue = st.chisquare(f_obs=observed, f_exp=E)\n",
    "print(pvalue)\n",
    "\n",
    "if pvalue > significance:\n",
    "    print('we do not reject h0')\n",
    "else:\n",
    "    print('we reject h0')\n",
    "\n",
    "\n"
   ]
  },
  {
   "cell_type": "markdown",
   "metadata": {},
   "source": [
    "## Question 4\n",
    "A researcher gathers information about the patterns of Physical Activity of children in the fifth grade of primary school of a public school. He defines three categories of physical activity (Low, Medium, High). He also inquires about the regular consumption of sugary drinks at school, and defines two categories (Yes = consumed, No = not consumed). We would like to evaluate if there is an association between patterns of physical activity and the consumption of sugary drinks for the children of this school, at a level of 5% significance. The results are in the following table: \n",
    "\n",
    "![](table4.png)"
   ]
  },
  {
   "cell_type": "code",
   "execution_count": 11,
   "metadata": {},
   "outputs": [
    {
     "data": {
      "text/plain": [
       "(10.712198008709638,\n",
       " 0.004719280137040844,\n",
       " 2,\n",
       " array([[24.08421053, 19.91578947],\n",
       "        [19.70526316, 16.29473684],\n",
       "        [ 8.21052632,  6.78947368]]))"
      ]
     },
     "execution_count": 11,
     "metadata": {},
     "output_type": "execute_result"
    }
   ],
   "source": [
    "#your answer here\n",
    "drinks = [[32,12], [14,22], [6,9]]\n",
    "st.chi2_contingency(np.array(drinks))\n",
    "\n",
    "# there pvalue is too low, we reject h0"
   ]
  }
 ],
 "metadata": {
  "kernelspec": {
   "display_name": "Python 3",
   "language": "python",
   "name": "python3"
  },
  "language_info": {
   "codemirror_mode": {
    "name": "ipython",
    "version": 3
   },
   "file_extension": ".py",
   "mimetype": "text/x-python",
   "name": "python",
   "nbconvert_exporter": "python",
   "pygments_lexer": "ipython3",
   "version": "3.7.4"
  },
  "vscode": {
   "interpreter": {
    "hash": "c438be70fe7b14fa31e78cfaf571a5f956365162ba67af6fb1eb95bac3223110"
   }
  }
 },
 "nbformat": 4,
 "nbformat_minor": 2
}
