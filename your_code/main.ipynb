{
 "cells": [
  {
   "cell_type": "markdown",
   "metadata": {},
   "source": [
    "## Question 1\n",
    "The following table indicates the number of 6-point scores in an American rugby match in the 1979 season.\n",
    "\n",
    "![](table1.png)\n",
    "\n",
    "Based on these results, we create a Poisson distribution with the sample mean parameter  = 2.435. Is there any reason to believe that at a .05 level the number of scores is a Poisson variable?"
   ]
  },
  {
   "cell_type": "code",
   "execution_count": 2,
   "metadata": {},
   "outputs": [
    {
     "name": "stdout",
     "output_type": "stream",
     "text": [
      "stat: 6.491310681109792  p_value: 0.48368890685373034\n"
     ]
    },
    {
     "data": {
      "text/plain": [
       "False"
      ]
     },
     "execution_count": 2,
     "metadata": {},
     "output_type": "execute_result"
    }
   ],
   "source": [
    "# your answer here\n",
    "from scipy import stats as st\n",
    "import numpy as np\n",
    "\n",
    "mu=2.435\n",
    "#H0: dist ~poisson(2.435)\n",
    "#H1: dist !=poisson(2.435)\n",
    "\n",
    "possion_dist = st.poisson(mu)\n",
    "\n",
    "poisson_pmfs = np.array([possion_dist.pmf(i) for i in range(7)])\n",
    "poisson_pmfs\n",
    "\n",
    "## I don't have the bigger than 7 so:\n",
    "with_tail = np.append(poisson_pmfs, possion_dist.sf(6))\n",
    "with_tail\n",
    "\n",
    "#2. Significance level\n",
    "a=0.05\n",
    "\n",
    "#3. Sample\n",
    "obs=np.array([35, 99, 104, 110, 62, 25, 10, 3])\n",
    "expec = with_tail * 448\n",
    "\n",
    "#4.&5. Stat and p_value\n",
    "stat = st.chisquare(obs,expec)[0]\n",
    "p_value = st.chisquare(obs,f_exp=expec)[1]\n",
    "print('stat:', stat,' p_value:',p_value)\n",
    "\n",
    "#6. Decision\n",
    "p_value < a ## If False we do not reject, if True we reject the hypotesis with a confidence of 95%"
   ]
  },
  {
   "cell_type": "markdown",
   "metadata": {},
   "source": [
    "## BONUS/OPTIONAL - Question 2\n",
    "Let's analyze a discrete distribution. To analyze the number of defective items in a factory in the city of Medellín, we took a random sample of n = 60 articles and observed the number of defectives in the following table:\n",
    "\n",
    "![](table2.png)\n",
    "\n",
    "A poissón distribution was proposed since it is defined for x = 0,1,2,3, .... using the following model:\n",
    "\n",
    "![](image1.png)\n",
    "\n",
    "For some extra insights check the following link: https://online.stat.psu.edu/stat504/node/63/ \n",
    "\n",
    "Does the distribution of defective items follow this distribution?"
   ]
  },
  {
   "cell_type": "code",
   "execution_count": null,
   "metadata": {},
   "outputs": [],
   "source": [
    "# your code here"
   ]
  },
  {
   "cell_type": "markdown",
   "metadata": {},
   "source": [
    "## Question 3\n",
    "A quality control engineer takes a sample of 10 tires that come out of an assembly line, and would like to verify on the basis of the data that follows, if the number of tires with defects observed over 200 days, if it is true that 5% of all tires have defects (that is, if the sample comes from a binomial population with n = 10 and p = 0.05). \n",
    "\n",
    "![](table3.png)\n"
   ]
  },
  {
   "cell_type": "code",
   "execution_count": 4,
   "metadata": {},
   "outputs": [
    {
     "name": "stdout",
     "output_type": "stream",
     "text": [
      "stat: 8.30617951954277  p_value: 0.015715783395951168\n"
     ]
    },
    {
     "data": {
      "text/plain": [
       "True"
      ]
     },
     "execution_count": 4,
     "metadata": {},
     "output_type": "execute_result"
    }
   ],
   "source": [
    "# your answer here\n",
    "\n",
    "# H0: dist ~ binom (10,0.05)\n",
    "# H1: dist != binom (10,0.05)\n",
    "\n",
    "n=10\n",
    "p=0.05\n",
    "\n",
    "binom_dist = st.binom(n,p)\n",
    "\n",
    "binom_pmfs = np.array([binom_dist.pmf(i) for i in range(2)])\n",
    "\n",
    "## I don't have the bigger than 7 so:\n",
    "with_tail = np.append(binom_pmfs, binom_dist.sf(1))\n",
    "with_tail\n",
    "\n",
    "#2. Significance level\n",
    "a=0.05\n",
    "\n",
    "#3. Sample\n",
    "obs=np.array([138, 53, 9])\n",
    "expec = with_tail * obs.sum()\n",
    "\n",
    "#4.&5. Stat and p_value\n",
    "stat = st.chisquare(obs,expec)[0]\n",
    "p_value = st.chisquare(obs,f_exp=expec)[1]\n",
    "print('stat:', stat,' p_value:',p_value)\n",
    "\n",
    "#6. Decision\n",
    "p_value < a ## If False we do not reject, if True we reject the hypotesis with a confidence of 95%"
   ]
  },
  {
   "cell_type": "markdown",
   "metadata": {},
   "source": [
    "## Question 4\n",
    "A researcher gathers information about the patterns of Physical Activity of children in the fifth grade of primary school of a public school. He defines three categories of physical activity (Low, Medium, High). He also inquires about the regular consumption of sugary drinks at school, and defines two categories (Yes = consumed, No = not consumed). We would like to evaluate if there is an association between patterns of physical activity and the consumption of sugary drinks for the children of this school, at a level of 5% significance. The results are in the following table: \n",
    "\n",
    "![](table4.png)"
   ]
  },
  {
   "cell_type": "code",
   "execution_count": 5,
   "metadata": {},
   "outputs": [
    {
     "name": "stdout",
     "output_type": "stream",
     "text": [
      "(10.712198008709638, 0.004719280137040844, 2, array([[24.08421053, 19.91578947],\n",
      "       [19.70526316, 16.29473684],\n",
      "       [ 8.21052632,  6.78947368]]))\n"
     ]
    },
    {
     "data": {
      "text/plain": [
       "True"
      ]
     },
     "execution_count": 5,
     "metadata": {},
     "output_type": "execute_result"
    }
   ],
   "source": [
    "# H0: physical activity and sugary drinks are independet\n",
    "# H1: physical activity and sugary drinks are not independent\n",
    "\n",
    "# significance level\n",
    "a=0.05\n",
    "\n",
    "##Sample\n",
    "\n",
    "sugar_table = np.array([[32,12],\n",
    "              [14,22],\n",
    "              [6,9]])\n",
    "\n",
    "\n",
    "### 4. and 5 Stats and p_value\n",
    "statistic_all = st.chi2_contingency(sugar_table)\n",
    "print(statistic_all)\n",
    "### Tuple from chi2_contigency:\n",
    "    ##1st: stat\n",
    "    ##2nd: p_value\n",
    "    ##3rd: degrees of freedom\n",
    "    ##4th: expected value if H0 stands true (if the cars are independent from perception)\n",
    "\n",
    "##Decision\n",
    "statistic_all[1] < a ## If False we do not reject, if True we reject the hypotesis with a confidence of 95% --> \n",
    "                     ## So we gathered enough information"
   ]
  },
  {
   "cell_type": "code",
   "execution_count": null,
   "metadata": {},
   "outputs": [],
   "source": []
  }
 ],
 "metadata": {
  "kernelspec": {
   "display_name": "Python 3",
   "language": "python",
   "name": "python3"
  },
  "language_info": {
   "codemirror_mode": {
    "name": "ipython",
    "version": 3
   },
   "file_extension": ".py",
   "mimetype": "text/x-python",
   "name": "python",
   "nbconvert_exporter": "python",
   "pygments_lexer": "ipython3",
   "version": "3.9.7"
  }
 },
 "nbformat": 4,
 "nbformat_minor": 2
}
