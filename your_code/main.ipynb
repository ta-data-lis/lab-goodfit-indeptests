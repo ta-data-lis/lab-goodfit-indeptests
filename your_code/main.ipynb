{
 "cells": [
  {
   "cell_type": "markdown",
   "metadata": {},
   "source": [
    "## Question 1\n",
    "The following table indicates the number of 6-point scores in an American rugby match in the 1979 season.\n",
    "\n",
    "![](table1.png)\n",
    "\n",
    "Based on these results, we create a Poisson distribution with the sample mean parameter  = 2.435. Is there any reason to believe that at a .05 level the number of scores is a Poisson variable?"
   ]
  },
  {
   "cell_type": "code",
   "execution_count": 12,
   "metadata": {},
   "outputs": [
    {
     "data": {
      "text/plain": [
       "array([ 39.24379068,  95.5586303 , 116.34263239,  94.43143662,\n",
       "        57.48513704,  27.99526174,  11.36141039,   5.58170083])"
      ]
     },
     "execution_count": 12,
     "metadata": {},
     "output_type": "execute_result"
    }
   ],
   "source": [
    "from scipy.stats import poisson\n",
    "import numpy as np\n",
    "import scipy.stats as st\n",
    "\n",
    "\n",
    "\n",
    "# your answer here\n",
    "\n",
    "mu=2.435\n",
    "\n",
    "poisson_dist=poisson(mu)\n",
    "\n",
    "exp=[poisson_dist.pmf(i) for i in range(7)]\n",
    "exp.append(poisson_dist.sf(6))\n",
    "exp=np.array(exp)*448\n",
    "\n",
    "exp"
   ]
  },
  {
   "cell_type": "code",
   "execution_count": 11,
   "metadata": {},
   "outputs": [
    {
     "name": "stdout",
     "output_type": "stream",
     "text": [
      "6.491310681109792 0.48368890685373034\n"
     ]
    },
    {
     "data": {
      "text/plain": [
       "False"
      ]
     },
     "execution_count": 11,
     "metadata": {},
     "output_type": "execute_result"
    }
   ],
   "source": [
    "#Hipothesis\n",
    "\n",
    "# H0: nr scores follows Poisson(2.435)\n",
    "# H1: nr scores doesn't follow Poisson(2.435)\n",
    "\n",
    "\n",
    "#Significance level\n",
    "\n",
    "alpha=0.05\n",
    "\n",
    "#Sample\n",
    "\n",
    "O=np.array([35, 99, 104, 110, 62, 25, 10, 3])\n",
    "\n",
    "E=exp\n",
    "\n",
    "stat, pval = st.chisquare(O, f_exp=E)\n",
    "\n",
    "print(stat, pval)\n",
    "\n",
    "pval<alpha"
   ]
  },
  {
   "cell_type": "code",
   "execution_count": null,
   "metadata": {},
   "outputs": [],
   "source": [
    "# We dont reject that the number of scores is a Poisson variable"
   ]
  },
  {
   "cell_type": "markdown",
   "metadata": {},
   "source": [
    "## BONUS/OPTIONAL - Question 2\n",
    "Let's analyze a discrete distribution. To analyze the number of defective items in a factory in the city of Medellín, we took a random sample of n = 60 articles and observed the number of defectives in the following table:\n",
    "\n",
    "![](table2.png)\n",
    "\n",
    "A poissón distribution was proposed since it is defined for x = 0,1,2,3, .... using the following model:\n",
    "\n",
    "![](image1.png)\n",
    "\n",
    "For some extra insights check the following link: https://online.stat.psu.edu/stat504/node/63/ \n",
    "\n",
    "Does the distribution of defective items follow this distribution?"
   ]
  },
  {
   "cell_type": "code",
   "execution_count": 32,
   "metadata": {},
   "outputs": [
    {
     "data": {
      "text/plain": [
       "array([22.8209254 , 22.06022788,  3.43567623,  0.83028842])"
      ]
     },
     "execution_count": 32,
     "metadata": {},
     "output_type": "execute_result"
    }
   ],
   "source": [
    "# your code here\n",
    "\n",
    "import math\n",
    "\n",
    "lamb=(15+9+9+9+16)/60\n",
    "\n",
    "exp=[((lamb**x)*(math.e**-lamb))/math.factorial(x) for x in [0, 1, 3, 4]]\n",
    "\n",
    "np.array(exp)*60\n"
   ]
  },
  {
   "cell_type": "code",
   "execution_count": null,
   "metadata": {},
   "outputs": [],
   "source": [
    "# no?"
   ]
  },
  {
   "cell_type": "markdown",
   "metadata": {},
   "source": [
    "## Question 3\n",
    "A quality control engineer takes a sample of 10 tires that come out of an assembly line, and would like to verify on the basis of the data that follows, if the number of tires with defects observed over 200 days, if it is true that 5% of all tires have defects (that is, if the sample comes from a binomial population with n = 10 and p = 0.05). \n",
    "\n",
    "![](table3.png)\n"
   ]
  },
  {
   "cell_type": "code",
   "execution_count": 36,
   "metadata": {},
   "outputs": [
    {
     "data": {
      "text/plain": [
       "array([119.74738785,  63.02494097,  17.22767118])"
      ]
     },
     "execution_count": 36,
     "metadata": {},
     "output_type": "execute_result"
    }
   ],
   "source": [
    "# your answer here\n",
    "\n",
    "from scipy.stats import binom\n",
    "\n",
    "n=10\n",
    "p=0.05 \n",
    "\n",
    "binom_dist=binom(n,p)\n",
    "\n",
    "exp=[binom_dist.pmf(i) for i in range(2)]\n",
    "exp.append(binom_dist.sf(1))\n",
    "exp=np.array(exp)*200\n",
    "exp"
   ]
  },
  {
   "cell_type": "code",
   "execution_count": 37,
   "metadata": {},
   "outputs": [
    {
     "name": "stdout",
     "output_type": "stream",
     "text": [
      "8.30617951954277 0.015715783395951168\n"
     ]
    },
    {
     "data": {
      "text/plain": [
       "True"
      ]
     },
     "execution_count": 37,
     "metadata": {},
     "output_type": "execute_result"
    }
   ],
   "source": [
    "#Hipothesis\n",
    "\n",
    "# H0: nr tires w/ defects follows Binomial(10, 0.05)\n",
    "# H1: nr tires w/ defects doesn't follow Binomial(10, 0.05)\n",
    "\n",
    "\n",
    "#Significance level\n",
    "\n",
    "alpha=0.05 #???\n",
    "\n",
    "#Sample\n",
    "\n",
    "O=np.array([138, 53, 9])\n",
    "\n",
    "E=exp\n",
    "\n",
    "stat, pval = st.chisquare(O, f_exp=E)\n",
    "\n",
    "print(stat, pval)\n",
    "\n",
    "pval<alpha  "
   ]
  },
  {
   "cell_type": "code",
   "execution_count": null,
   "metadata": {},
   "outputs": [],
   "source": [
    "#We reject H0. We have reason to believe the nr of tires w/ defects doesn't follow a Binomial(10, 0.05)"
   ]
  },
  {
   "cell_type": "markdown",
   "metadata": {},
   "source": [
    "## Question 4\n",
    "A researcher gathers information about the patterns of Physical Activity of children in the fifth grade of primary school of a public school. He defines three categories of physical activity (Low, Medium, High). He also inquires about the regular consumption of sugary drinks at school, and defines two categories (Yes = consumed, No = not consumed). We would like to evaluate if there is an association between patterns of physical activity and the consumption of sugary drinks for the children of this school, at a level of 5% significance. The results are in the following table: \n",
    "\n",
    "![](table4.png)"
   ]
  },
  {
   "cell_type": "code",
   "execution_count": 41,
   "metadata": {},
   "outputs": [],
   "source": [
    "#your answer here\n",
    "\n",
    "#H0: the patterns of physical activity and the consumption of sugary drinks in children are independent from each other\n",
    "\n",
    "#H1: they arent independent\n",
    "\n",
    "\n",
    "#sifnificance level\n",
    "alpha=0.05\n",
    "\n",
    "#Sample\n",
    "samp =np.array([[32, 12], \n",
    "             [14, 22], \n",
    "             [6, 9]])\n",
    "\n",
    "# stats and p-value\n",
    "_,pval,_,_=st.chi2_contingency(samp)\n",
    "\n"
   ]
  },
  {
   "cell_type": "code",
   "execution_count": 44,
   "metadata": {},
   "outputs": [
    {
     "data": {
      "text/plain": [
       "True"
      ]
     },
     "execution_count": 44,
     "metadata": {},
     "output_type": "execute_result"
    }
   ],
   "source": [
    "pval<alpha"
   ]
  },
  {
   "cell_type": "code",
   "execution_count": null,
   "metadata": {},
   "outputs": [],
   "source": [
    "#We reject the null hypothesis. We have reason to believe the two variables ARE dependent. "
   ]
  }
 ],
 "metadata": {
  "kernelspec": {
   "display_name": "Python 3 (ipykernel)",
   "language": "python",
   "name": "python3"
  },
  "language_info": {
   "codemirror_mode": {
    "name": "ipython",
    "version": 3
   },
   "file_extension": ".py",
   "mimetype": "text/x-python",
   "name": "python",
   "nbconvert_exporter": "python",
   "pygments_lexer": "ipython3",
   "version": "3.9.7"
  }
 },
 "nbformat": 4,
 "nbformat_minor": 2
}
