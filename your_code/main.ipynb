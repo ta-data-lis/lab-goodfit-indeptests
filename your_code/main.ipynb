{
 "cells": [
  {
   "cell_type": "markdown",
   "metadata": {},
   "source": [
    "## Question 1\n",
    "The following table indicates the number of 6-point scores in an American rugby match in the 1979 season.\n",
    "\n",
    "![](table1.png)\n",
    "\n",
    "Based on these results, we create a Poisson distribution with the sample mean parameter  = 2.435. Is there any reason to believe that at a .05 level the number of scores is a Poisson variable?"
   ]
  },
  {
   "cell_type": "code",
   "execution_count": 63,
   "metadata": {},
   "outputs": [
    {
     "data": {
      "text/plain": [
       "Power_divergenceResult(statistic=6.491310681109786, pvalue=0.4836889068537311)"
      ]
     },
     "execution_count": 63,
     "metadata": {},
     "output_type": "execute_result"
    }
   ],
   "source": [
    "# your answer here\n",
    "# imports\n",
    "from scipy.stats import poisson\n",
    "from scipy.stats import chisquare\n",
    "\n",
    "# observed sample\n",
    "observed = [35, 99, 104, 110, 62, 25, 10, 3]\n",
    "\n",
    "# expected sample computed based on a Poisson distribution with mu = 2.435\n",
    "expected = [poisson.pmf(0, 2.435)*448, \n",
    "            poisson.pmf(1, 2.435)*448, \n",
    "            poisson.pmf(2, 2.435)*448, \n",
    "            poisson.pmf(3, 2.435)*448, \n",
    "            poisson.pmf(4, 2.435)*448, \n",
    "            poisson.pmf(5, 2.435)*448, \n",
    "            poisson.pmf(6, 2.435)*448, \n",
    "            (1-poisson.cdf(6, 2.435))*448]\n",
    "\n",
    "# chi-square\n",
    "chisquare(f_obs= observed, f_exp= expected)\n",
    "# H0: the observed values are equal to the expected values (poisson distribution mu= 2.435)\n",
    "# H1: the observed values are not equal to the expected values (poisson distribution mu= 2.435)\n",
    "\n",
    "# The number of scores is a Poisson variable, because p-value is higher than 0.05 (significance level). It does not allow us\n",
    "# to reject the null hypothesis which states that the observed values are equal to the expected values (poisson distribution\n",
    "# mu= 2.435)"
   ]
  },
  {
   "cell_type": "markdown",
   "metadata": {},
   "source": [
    "## BONUS/OPTIONAL - Question 2\n",
    "Let's analyze a discrete distribution. To analyze the number of defective items in a factory in the city of Medellín, we took a random sample of n = 60 articles and observed the number of defectives in the following table:\n",
    "\n",
    "![](table2.png)\n",
    "\n",
    "A poisson distribution was proposed since it is defined for x = 0,1,2,3, .... using the following model:\n",
    "\n",
    "![](image1.png)\n",
    "\n",
    "For some extra insights check the following link: https://online.stat.psu.edu/stat504/node/63/ \n",
    "\n",
    "Does the distribution of defective items follow this distribution?"
   ]
  },
  {
   "cell_type": "code",
   "execution_count": 74,
   "metadata": {},
   "outputs": [
    {
     "data": {
      "text/plain": [
       "Power_divergenceResult(statistic=6.248550837473296, pvalue=0.012429495465327694)"
      ]
     },
     "execution_count": 74,
     "metadata": {},
     "output_type": "execute_result"
    }
   ],
   "source": [
    "# your code here\n",
    "# observed sample (the last two lines were joined, because chi-square test is invalid when the observed or expected \n",
    "# frequencies in each category are too small)\n",
    "observed = [32, 15, 13]\n",
    "\n",
    "# maximum likelihood sample mean\n",
    "estimated_mean = (32*0+15*1+9*3+4*4)/60\n",
    "\n",
    "# expected values computed with a Poisson distributed considering the estimated mean\n",
    "expected = [poisson.pmf(0, estimated_mean)*60,\n",
    "            poisson.pmf(1, estimated_mean)*60,\n",
    "            (1-poisson.cdf(1, estimated_mean))*60]\n",
    "\n",
    "# chi-square where the ddof input was considered to be one, because it refers to the number of values estimated\n",
    "chisquare(f_obs= observed, f_exp= expected, ddof= 1)\n",
    "\n",
    "# H0: the observed values are equal to the expected values (poisson distribution)\n",
    "# H1: the observed values are not equal to the expected values (poisson distribution )\n",
    "\n",
    "# The number of scores is not a Poisson variable, because p-value is less than 0.05 (significance level). It allows us\n",
    "# to reject the null hypothesis which states that the observed values are equal to the expected values "
   ]
  },
  {
   "cell_type": "markdown",
   "metadata": {},
   "source": [
    "## Question 3\n",
    "A quality control engineer takes a sample of 10 tires that come out of an assembly line, and would like to verify on the basis of the data that follows, if the number of tires with defects observed over 200 days, if it is true that 5% of all tires have defects (that is, if the sample comes from a binomial population with n = 10 and p = 0.05). \n",
    "\n",
    "![](table3.png)\n"
   ]
  },
  {
   "cell_type": "code",
   "execution_count": 77,
   "metadata": {},
   "outputs": [
    {
     "data": {
      "text/plain": [
       "Power_divergenceResult(statistic=8.306179519542772, pvalue=0.015715783395951144)"
      ]
     },
     "execution_count": 77,
     "metadata": {},
     "output_type": "execute_result"
    }
   ],
   "source": [
    "# your answer here\n",
    "# imports\n",
    "from scipy.stats import binom\n",
    "\n",
    "# observed sample\n",
    "observed = [138, 53, 9]\n",
    "\n",
    "# expected sample computed based on a Binomial distribution with n = 10 and p = 0.05\n",
    "expected = [binom.pmf(0, 10, 0.05)*200, \n",
    "            binom.pmf(1, 10, 0.05)*200, \n",
    "            (1-binom.cdf(1, 10, 0.05))*200]\n",
    "\n",
    "# chi-square\n",
    "chisquare(f_obs= observed, f_exp= expected)\n",
    "# H0: the observed values are equal to the expected values (Binomial distribution n = 10 and p = 0.05)\n",
    "# H1: the observed values are not equal to the expected values (Binomial distribution n = 10 and p = 0.05)\n",
    "\n",
    "# The number of scores is not a Binomial variable, because p-value is less than 0.05 (significance level). It allows us\n",
    "# to reject the null hypothesis which states that the observed values are equal to the expected values \n",
    "# (Binomial distribution n = 10 and p = 0.05)"
   ]
  },
  {
   "cell_type": "markdown",
   "metadata": {},
   "source": [
    "## Question 4\n",
    "A researcher gathers information about the patterns of Physical Activity of children in the fifth grade of primary school of a public school. He defines three categories of physical activity (Low, Medium, High). He also inquires about the regular consumption of sugary drinks at school, and defines two categories (Yes = consumed, No = not consumed). We would like to evaluate if there is an association between patterns of physical activity and the consumption of sugary drinks for the children of this school, at a level of 5% significance. The results are in the following table: \n",
    "\n",
    "![](table4.png)"
   ]
  },
  {
   "cell_type": "code",
   "execution_count": 82,
   "metadata": {},
   "outputs": [
    {
     "data": {
      "text/plain": [
       "(10.712198008709638,\n",
       " 0.004719280137040844,\n",
       " 2,\n",
       " array([[24.08421053, 19.91578947],\n",
       "        [19.70526316, 16.29473684],\n",
       "        [ 8.21052632,  6.78947368]]))"
      ]
     },
     "execution_count": 82,
     "metadata": {},
     "output_type": "execute_result"
    }
   ],
   "source": [
    "#your answer here\n",
    "# imports\n",
    "import numpy as np\n",
    "from scipy.stats import chi2_contingency\n",
    "\n",
    "# definition of table\n",
    "table = np.array([[32, 12], [14, 22], [6, 9]])\n",
    "\n",
    "# chi-square\n",
    "chi2_contingency(table)\n",
    "\n",
    "# H0: the variables (sugary drinks, physical activity) are independent\n",
    "# H1: the variables (sugary drinks, physical activity) are not independent\n",
    "# The variables (sugary drinks, physical activity) are not independent, because p-value is less than 0.05 (significance \n",
    "# level). It allows us to reject the null hypothesis which states that the variables (sugary drinks, physical activity) are \n",
    "# independent"
   ]
  }
 ],
 "metadata": {
  "kernelspec": {
   "display_name": "Python 3 (ipykernel)",
   "language": "python",
   "name": "python3"
  },
  "language_info": {
   "codemirror_mode": {
    "name": "ipython",
    "version": 3
   },
   "file_extension": ".py",
   "mimetype": "text/x-python",
   "name": "python",
   "nbconvert_exporter": "python",
   "pygments_lexer": "ipython3",
   "version": "3.9.7"
  }
 },
 "nbformat": 4,
 "nbformat_minor": 2
}
