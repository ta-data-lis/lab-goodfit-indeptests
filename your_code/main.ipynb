{
 "cells": [
  {
   "cell_type": "code",
   "execution_count": 1,
   "metadata": {},
   "outputs": [],
   "source": [
    "import pandas as pd\n",
    "import scipy.stats as st\n",
    "from scipy.stats import bernoulli\n",
    "from scipy.stats import binom\n",
    "from scipy.stats import geom\n",
    "from scipy.stats import poisson\n",
    "import numpy as np\n"
   ]
  },
  {
   "cell_type": "markdown",
   "metadata": {},
   "source": [
    "## Question 1\n",
    "The following table indicates the number of 6-point scores in an American rugby match in the 1979 season.\n",
    "\n",
    "![](table1.png)\n",
    "\n",
    "Based on these results, we create a Poisson distribution with the sample mean parameter  = 2.435. Is there any reason to believe that at a .05 level the number of scores is a Poisson variable?"
   ]
  },
  {
   "cell_type": "code",
   "execution_count": 3,
   "metadata": {},
   "outputs": [
    {
     "name": "stdout",
     "output_type": "stream",
     "text": [
      "Power_divergenceResult(statistic=6.491310681109792, pvalue=0.48368890685373034)\n"
     ]
    },
    {
     "data": {
      "text/plain": [
       "False"
      ]
     },
     "execution_count": 3,
     "metadata": {},
     "output_type": "execute_result"
    }
   ],
   "source": [
    "# your answer here\n",
    "alpha = 0.05\n",
    "\n",
    "OV = np.array([35,99,104,110,62,25,10,3])\n",
    "\n",
    "p= 2.435 \n",
    "\n",
    "poisson_dist = poisson(p)\n",
    "\n",
    "poisson_pmfs = np.array([poisson_dist.pmf(i) for i in range(0,7)])\n",
    "\n",
    "with_tail = np.append(poisson_pmfs,poisson_dist.sf(6))\n",
    "\n",
    "EV = with_tail * 448\n",
    "\n",
    "print(st.chisquare(OV,EV))\n",
    "\n",
    "0.48368890685373034 < alpha\n",
    "## cannot reject"
   ]
  },
  {
   "cell_type": "markdown",
   "metadata": {},
   "source": [
    "## BONUS/OPTIONAL - Question 2\n",
    "Let's analyze a discrete distribution. To analyze the number of defective items in a factory in the city of Medellín, we took a random sample of n = 60 articles and observed the number of defectives in the following table:\n",
    "\n",
    "![](table2.png)\n",
    "\n",
    "A poissón distribution was proposed since it is defined for x = 0,1,2,3, .... using the following model:\n",
    "\n",
    "![](image1.png)\n",
    "\n",
    "For some extra insights check the following link: https://online.stat.psu.edu/stat504/node/63/ \n",
    "\n",
    "Does the distribution of defective items follow this distribution?"
   ]
  },
  {
   "cell_type": "code",
   "execution_count": null,
   "metadata": {},
   "outputs": [],
   "source": [
    "# your code here"
   ]
  },
  {
   "cell_type": "markdown",
   "metadata": {},
   "source": [
    "## Question 3\n",
    "A quality control engineer takes a sample of 10 tires that come out of an assembly line, and would like to verify on the basis of the data that follows, if the number of tires with defects observed over 200 days, if it is true that 5% of all tires have defects (that is, if the sample comes from a binomial population with n = 10 and p = 0.05). \n",
    "\n",
    "![](table3.png)\n"
   ]
  },
  {
   "cell_type": "code",
   "execution_count": 4,
   "metadata": {},
   "outputs": [
    {
     "name": "stdout",
     "output_type": "stream",
     "text": [
      "Power_divergenceResult(statistic=8.30617951954277, pvalue=0.015715783395951168)\n"
     ]
    },
    {
     "data": {
      "text/plain": [
       "True"
      ]
     },
     "execution_count": 4,
     "metadata": {},
     "output_type": "execute_result"
    }
   ],
   "source": [
    "# your answer here\n",
    "\n",
    "alpha = 0.05\n",
    "\n",
    "OV = np.array([138,53,9])\n",
    "\n",
    "p= 0.05\n",
    "n= 10 \n",
    "\n",
    "binom_dist = binom(n,p)\n",
    "\n",
    "binom_pmfs = np.array([binom_dist.pmf(i) for i in range(0,2)])\n",
    "\n",
    "with_tail = np.append(binom_pmfs,binom_dist.sf(1))\n",
    "\n",
    "EV = with_tail * 200\n",
    "\n",
    "print(st.chisquare(OV,EV))\n",
    "\n",
    "0.015715783395951168 < alpha\n",
    "\n",
    "## Reject the distribution"
   ]
  },
  {
   "cell_type": "markdown",
   "metadata": {},
   "source": [
    "## Question 4\n",
    "A researcher gathers information about the patterns of Physical Activity of children in the fifth grade of primary school of a public school. He defines three categories of physical activity (Low, Medium, High). He also inquires about the regular consumption of sugary drinks at school, and defines two categories (Yes = consumed, No = not consumed). We would like to evaluate if there is an association between patterns of physical activity and the consumption of sugary drinks for the children of this school, at a level of 5% significance. The results are in the following table: \n",
    "\n",
    "![](table4.png)"
   ]
  },
  {
   "cell_type": "code",
   "execution_count": 6,
   "metadata": {},
   "outputs": [
    {
     "name": "stdout",
     "output_type": "stream",
     "text": [
      "(10.712198008709638, 0.013388412365655075, 3, array([[24.08421053, 19.91578947],\n",
      "       [19.70526316, 16.29473684],\n",
      "       [ 8.21052632,  6.78947368],\n",
      "       [52.        , 43.        ]]))\n"
     ]
    },
    {
     "data": {
      "text/plain": [
       "True"
      ]
     },
     "execution_count": 6,
     "metadata": {},
     "output_type": "execute_result"
    }
   ],
   "source": [
    "#your answer here\n",
    "\n",
    "alpha = 0.05\n",
    "\n",
    "drinks_table = np.array([[32,12],[14,22],[6,9],[52,43]])\n",
    "\n",
    "print(st.chi2_contingency(drinks_table))\n",
    "\n",
    "0.013388412365655075 < alpha\n",
    "## Reject the null hypothesis"
   ]
  }
 ],
 "metadata": {
  "kernelspec": {
   "display_name": "Python 3.9.13 ('Ironhack')",
   "language": "python",
   "name": "python3"
  },
  "language_info": {
   "codemirror_mode": {
    "name": "ipython",
    "version": 3
   },
   "file_extension": ".py",
   "mimetype": "text/x-python",
   "name": "python",
   "nbconvert_exporter": "python",
   "pygments_lexer": "ipython3",
   "version": "3.9.13"
  },
  "vscode": {
   "interpreter": {
    "hash": "985844dc686bf8bc52028a38ef08654e50758646994bdb41b244f06f0e25b2ae"
   }
  }
 },
 "nbformat": 4,
 "nbformat_minor": 2
}
