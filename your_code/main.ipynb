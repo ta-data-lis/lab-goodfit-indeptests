{
 "cells": [
  {
   "cell_type": "markdown",
   "metadata": {},
   "source": [
    "## Question 1\n",
    "The following table indicates the number of 6-point scores in an American rugby match in the 1979 season.\n",
    "\n",
    "![](table1.png)\n",
    "\n",
    "Based on these results, we create a Poisson distribution with the sample mean parameter  = 2.435. Is there any reason to believe that at a .05 level the number of scores is a Poisson variable?"
   ]
  },
  {
   "cell_type": "code",
   "execution_count": 8,
   "metadata": {},
   "outputs": [],
   "source": [
    "import pandas as pd\n",
    "import numpy as np\n",
    "import matplotlib.pyplot as plt\n",
    "import seaborn as sns\n",
    "import scipy.stats as st\n",
    "from scipy.stats import poisson\n",
    "from scipy.stats import binom"
   ]
  },
  {
   "cell_type": "code",
   "execution_count": 7,
   "metadata": {},
   "outputs": [
    {
     "name": "stdout",
     "output_type": "stream",
     "text": [
      "stat 6.491310681109792\n",
      "p_value 0.48368890685373034\n",
      "Do not reject the null hypothesis\n"
     ]
    }
   ],
   "source": [
    "# your answer here\n",
    "mu = 2.435\n",
    "\n",
    "# H0: distribution follows poisson(mu)\n",
    "# H1: distribution does not follow poisson(mu)\n",
    "poisson_dist = poisson(mu)\n",
    "\n",
    "poisson_pmfs = np.array([poisson_dist.pmf(i) for i in range(0,7)])\n",
    "poisson_pmfs\n",
    "with_tail = np.append(poisson_pmfs, poisson_dist.sf(6))\n",
    "with_tail\n",
    "\n",
    "# 2. Significance level\n",
    "alpha = 0.05\n",
    "\n",
    "# 3. Sample\n",
    "O = np.array([35, 99, 104, 110, 62, 25, 10, 3])\n",
    "E = with_tail * 448\n",
    "\n",
    "# 4. Compute the statistics and p-value\n",
    "stat, p_value = st.chisquare(O, f_exp=E)\n",
    "print('stat', stat)\n",
    "print('p_value', p_value)\n",
    "\n",
    "# Decision\n",
    "if p_value < alpha:\n",
    "    print('Reject the null hypothesis')\n",
    "else:\n",
    "    print('Do not reject the null hypothesis')"
   ]
  },
  {
   "cell_type": "markdown",
   "metadata": {},
   "source": [
    "## BONUS/OPTIONAL - Question 2\n",
    "Let's analyze a discrete distribution. To analyze the number of defective items in a factory in the city of Medellín, we took a random sample of n = 60 articles and observed the number of defectives in the following table:\n",
    "\n",
    "![](table2.png)\n",
    "\n",
    "A poissón distribution was proposed since it is defined for x = 0,1,2,3, .... using the following model:\n",
    "\n",
    "![](image1.png)\n",
    "\n",
    "For some extra insights check the following link: https://online.stat.psu.edu/stat504/node/63/ \n",
    "\n",
    "Does the distribution of defective items follow this distribution?"
   ]
  },
  {
   "cell_type": "code",
   "execution_count": 42,
   "metadata": {},
   "outputs": [
    {
     "name": "stdout",
     "output_type": "stream",
     "text": [
      "stat 34.32169618960071\n",
      "p_value 6.401393042020205e-07\n",
      "Reject the null hypothesis\n"
     ]
    }
   ],
   "source": [
    "# your code here\n",
    "n = 60\n",
    "\n",
    "# H0: distribution of observed values follows poisson(mu)\n",
    "# H1: distribution of observed values does not follow poisson(mu)\n",
    "\n",
    "mu = np.array(sum([(32*0), (15*1), (0*2), (9*3), (4*4)]))/60\n",
    "poisson_dist = poisson(mu)\n",
    "\n",
    "poisson_pmfs = np.array([poisson_dist.pmf(i) for i in range(0,4)])\n",
    "total_pmfs = np.append(poisson_pmfs, poisson_dist.sf(3))\n",
    "\n",
    "# 2. Significance level\n",
    "alpha = 0.05\n",
    "\n",
    "# 3. Sample\n",
    "O = np.array([32, 15, 0, 9, 4])\n",
    "E = total_pmfs *60\n",
    "\n",
    "\n",
    "# 4. Compute the statistics and p-value\n",
    "stat, p_value = st.chisquare(O, f_exp=E)\n",
    "print('stat', stat)\n",
    "print('p_value', p_value)\n",
    "\n",
    "# Decision\n",
    "if p_value < alpha:\n",
    "    print('Reject the null hypothesis')\n",
    "else:\n",
    "    print('Do not reject the null hypothesis')"
   ]
  },
  {
   "cell_type": "markdown",
   "metadata": {},
   "source": [
    "## Question 3\n",
    "A quality control engineer takes a sample of 10 tires that come out of an assembly line, and would like to verify on the basis of the data that follows, if the number of tires with defects observed over 200 days, if it is true that 5% of all tires have defects (that is, if the sample comes from a binomial population with n = 10 and p = 0.05). \n",
    "\n",
    "![](table3.png)\n"
   ]
  },
  {
   "cell_type": "code",
   "execution_count": 13,
   "metadata": {},
   "outputs": [
    {
     "name": "stdout",
     "output_type": "stream",
     "text": [
      "stat 8.30617951954277\n",
      "p_value 0.015715783395951168\n",
      "Reject the null hypothesis\n"
     ]
    }
   ],
   "source": [
    "# your code here\n",
    "n = 10\n",
    "p = 0.05\n",
    "\n",
    "# H0: distribution of observed values follows binom(n,p)\n",
    "# H1: distribution of observed values does not follow binom(n,p)\n",
    "binom_dist = binom(n,p)\n",
    "\n",
    "binom_pmfs = np.array([binom_dist.pmf(i) for i in range(0,2)])\n",
    "binom_pmfs\n",
    "with_tail = np.append(binom_pmfs, binom_dist.sf(1))\n",
    "with_tail\n",
    "\n",
    "# 2. Significance level\n",
    "alpha = 0.05\n",
    "\n",
    "# 3. Sample\n",
    "O = np.array([138, 53, 9])\n",
    "E = with_tail * 200\n",
    "\n",
    "# 4. Compute the statistics and p-value\n",
    "stat, p_value = st.chisquare(O, f_exp=E)\n",
    "print('stat', stat)\n",
    "print('p_value', p_value)\n",
    "\n",
    "# Decision\n",
    "if p_value < alpha:\n",
    "    print('Reject the null hypothesis')\n",
    "else:\n",
    "    print('Do not reject the null hypothesis')"
   ]
  },
  {
   "cell_type": "markdown",
   "metadata": {},
   "source": [
    "## Question 4\n",
    "A researcher gathers information about the patterns of Physical Activity of children in the fifth grade of primary school of a public school. He defines three categories of physical activity (Low, Medium, High). He also inquires about the regular consumption of sugary drinks at school, and defines two categories (Yes = consumed, No = not consumed). We would like to evaluate if there is an association between patterns of physical activity and the consumption of sugary drinks for the children of this school, at a level of 5% significance. The results are in the following table: \n",
    "\n",
    "![](table4.png)"
   ]
  },
  {
   "cell_type": "code",
   "execution_count": 12,
   "metadata": {},
   "outputs": [
    {
     "name": "stdout",
     "output_type": "stream",
     "text": [
      "stat = 10.712198008709638\n",
      "p_value = 0.004719280137040844\n",
      "Reject the null hypothesis\n"
     ]
    }
   ],
   "source": [
    "#your answer here\n",
    "\n",
    "# your code here\n",
    "n = 10\n",
    "p = 0.05\n",
    "\n",
    "# H0: activity and sugar consumption are dependent\n",
    "# H1: activity and sugar consumption are not dependent\n",
    "\n",
    "# 2. Significance level\n",
    "alpha = 0.05\n",
    "\n",
    "# 3. Sample\n",
    "table = np.array([[32, 12], [14, 22], [6, 9]])\n",
    "\n",
    "# Stats and p_value\n",
    "stat, p_value, ddof, exp_values = st.chi2_contingency(table)\n",
    "\n",
    "print('stat =', stat)\n",
    "print('p_value =', p_value)\n",
    "\n",
    "\n",
    "# Decision\n",
    "if p_value < alpha:\n",
    "    print('Reject the null hypothesis')\n",
    "else:\n",
    "    print('Do not reject the null hypothesis')"
   ]
  },
  {
   "cell_type": "code",
   "execution_count": null,
   "metadata": {},
   "outputs": [],
   "source": []
  }
 ],
 "metadata": {
  "kernelspec": {
   "display_name": "Python 3 (ipykernel)",
   "language": "python",
   "name": "python3"
  },
  "language_info": {
   "codemirror_mode": {
    "name": "ipython",
    "version": 3
   },
   "file_extension": ".py",
   "mimetype": "text/x-python",
   "name": "python",
   "nbconvert_exporter": "python",
   "pygments_lexer": "ipython3",
   "version": "3.9.7"
  }
 },
 "nbformat": 4,
 "nbformat_minor": 2
}
