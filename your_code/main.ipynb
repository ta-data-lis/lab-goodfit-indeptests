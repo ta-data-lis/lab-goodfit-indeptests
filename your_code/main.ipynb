{
 "cells": [
  {
   "cell_type": "code",
   "execution_count": 13,
   "metadata": {},
   "outputs": [],
   "source": [
    "import numpy as np\n",
    "import scipy.stats as st\n",
    "from scipy.stats import poisson\n",
    "from scipy.stats import binom\n"
   ]
  },
  {
   "cell_type": "markdown",
   "metadata": {},
   "source": [
    "## Question 1\n",
    "The following table indicates the number of 6-point scores in an American rugby match in the 1979 season.\n",
    "\n",
    "![](table1.png)\n",
    "\n",
    "Based on these results, we create a Poisson distribution with the sample mean parameter  = 2.435. Is there any reason to believe that at a .05 level the number of scores is a Poisson variable?"
   ]
  },
  {
   "cell_type": "code",
   "execution_count": 12,
   "metadata": {},
   "outputs": [
    {
     "data": {
      "text/plain": [
       "Power_divergenceResult(statistic=6.491310681109792, pvalue=0.48368890685373034)"
      ]
     },
     "execution_count": 12,
     "metadata": {},
     "output_type": "execute_result"
    }
   ],
   "source": [
    "# your answer here\n",
    "\n",
    "# Set the Hypothesis\n",
    "# H0 -> dist = poisson(2.435)\n",
    "# H1 -> dist != poisson(2.435)\n",
    "\n",
    "# significance level\n",
    "alpha = 0.05\n",
    "\n",
    "# sample\n",
    "O = np.array([35,99,104,110,62,25,10,3])\n",
    "\n",
    "# expected values under H0\n",
    "    # pmf:\n",
    "poisson_dist = poisson(2.435)\n",
    "calc_pmf = np.array([poisson_dist.pmf(i) for i in range(0,7)])\n",
    "calc_pmf\n",
    "    # scoring more than 7\n",
    "\n",
    "E = np.append(calc_pmf, poisson_dist.sf(6)) * O.sum()\n",
    "E\n",
    "\n",
    "(st.chisquare(f_obs=O, f_exp=E))\n",
    "\n",
    "# we do not reject the null hipothesis once the pvalue is way bigger than alpha\n"
   ]
  },
  {
   "cell_type": "markdown",
   "metadata": {},
   "source": [
    "## BONUS/OPTIONAL - Question 2\n",
    "Let's analyze a discrete distribution. To analyze the number of defective items in a factory in the city of Medellín, we took a random sample of n = 60 articles and observed the number of defectives in the following table:\n",
    "\n",
    "![](table2.png)\n",
    "\n",
    "A poissón distribution was proposed since it is defined for x = 0,1,2,3, .... using the following model:\n",
    "\n",
    "![](image1.png)\n",
    "\n",
    "For some extra insights check the following link: https://online.stat.psu.edu/stat504/node/63/ \n",
    "\n",
    "Does the distribution of defective items follow this distribution?"
   ]
  },
  {
   "cell_type": "code",
   "execution_count": null,
   "metadata": {},
   "outputs": [],
   "source": [
    "# your code here"
   ]
  },
  {
   "cell_type": "markdown",
   "metadata": {},
   "source": [
    "## Question 3\n",
    "A quality control engineer takes a sample of 10 tires that come out of an assembly line, and would like to verify on the basis of the data that follows, if the number of tires with defects observed over 200 days, if it is true that 5% of all tires have defects (that is, if the sample comes from a binomial population with n = 10 and p = 0.05). \n",
    "\n",
    "![](table3.png)\n"
   ]
  },
  {
   "cell_type": "code",
   "execution_count": 14,
   "metadata": {},
   "outputs": [
    {
     "data": {
      "text/plain": [
       "Power_divergenceResult(statistic=8.30617951954277, pvalue=0.015715783395951168)"
      ]
     },
     "execution_count": 14,
     "metadata": {},
     "output_type": "execute_result"
    }
   ],
   "source": [
    "# your answer here\n",
    "# Set the Hypothesis\n",
    "# H0 -> dist = binom\n",
    "# H1 -> dist != binom\n",
    "\n",
    "# significance level\n",
    "alpha = 0.05\n",
    "\n",
    "\n",
    "# sample\n",
    "n= 10\n",
    "O = np.array([138,53,9])\n",
    "\n",
    "# expected values under H0\n",
    "    # pmf:\n",
    "binom_dist=binom(n,alpha)\n",
    "\n",
    "\n",
    "calc_binom = np.array([binom_dist.pmf(i) for i in range(0,2)])\n",
    "calc_binom\n",
    "\n",
    "\n",
    "    # value bigger or equal than 2\n",
    "\n",
    "E = np.append(calc_binom, binom_dist.sf(1)) * O.sum()\n",
    "E\n",
    "\n",
    "(st.chisquare(f_obs=O, f_exp=E))\n",
    "\n",
    "# we reject the null hipothesis once the pvalue is smaller than alpha"
   ]
  },
  {
   "cell_type": "markdown",
   "metadata": {},
   "source": [
    "## Question 4\n",
    "A researcher gathers information about the patterns of Physical Activity of children in the fifth grade of primary school of a public school. He defines three categories of physical activity (Low, Medium, High). He also inquires about the regular consumption of sugary drinks at school, and defines two categories (Yes = consumed, No = not consumed). We would like to evaluate if there is an association between patterns of physical activity and the consumption of sugary drinks for the children of this school, at a level of 5% significance. The results are in the following table: \n",
    "\n",
    "![](table4.png)"
   ]
  },
  {
   "cell_type": "code",
   "execution_count": 17,
   "metadata": {},
   "outputs": [
    {
     "data": {
      "text/plain": [
       "(10.712198008709638,\n",
       " 0.004719280137040844,\n",
       " 2,\n",
       " array([[24.08421053, 19.91578947],\n",
       "        [19.70526316, 16.29473684],\n",
       "        [ 8.21052632,  6.78947368]]))"
      ]
     },
     "execution_count": 17,
     "metadata": {},
     "output_type": "execute_result"
    }
   ],
   "source": [
    "#your answer here\n",
    "\n",
    "# Set the Hypothesis\n",
    "# H0 -> physical activiti is not associated to the consumtion of sugary drinks for the children of this school\n",
    "# H1 -> physical activiti is associated to the consumtion of sugary drinks for the children of this school\n",
    "\n",
    "# significance level\n",
    "alpha=0.05\n",
    "\n",
    "# sample\n",
    "O = np.array([[32,12],[14,22],[6,9]])\n",
    "\n",
    "# computing stats and pvalue\n",
    "st.chi2_contingency(O)\n",
    "\n",
    "# pvalue is 0.004719280137040844, which is smaller than alpha. This means we reject the null hipothesis\n",
    "\n"
   ]
  },
  {
   "cell_type": "code",
   "execution_count": null,
   "metadata": {},
   "outputs": [],
   "source": []
  }
 ],
 "metadata": {
  "kernelspec": {
   "display_name": "ironhack",
   "language": "python",
   "name": "python3"
  },
  "language_info": {
   "codemirror_mode": {
    "name": "ipython",
    "version": 3
   },
   "file_extension": ".py",
   "mimetype": "text/x-python",
   "name": "python",
   "nbconvert_exporter": "python",
   "pygments_lexer": "ipython3",
   "version": "3.9.13"
  },
  "vscode": {
   "interpreter": {
    "hash": "13431b83ec255a84f87b36c3fda10080d0a9ddc1e0462dd4b0a9c2fbf7790bb4"
   }
  }
 },
 "nbformat": 4,
 "nbformat_minor": 2
}
