{
 "cells": [
  {
   "cell_type": "code",
   "execution_count": 1,
   "metadata": {},
   "outputs": [],
   "source": [
    "import numpy as np\n",
    "import scipy.stats as st\n",
    "from scipy.stats import poisson"
   ]
  },
  {
   "cell_type": "markdown",
   "metadata": {},
   "source": [
    "## Question 1\n",
    "The following table indicates the number of 6-point scores in an American rugby match in the 1979 season.\n",
    "\n",
    "![](table1.png)\n",
    "\n",
    "Based on these results, we create a Poisson distribution with the sample mean parameter  = 2.435. Is there any reason to believe that at a .05 level the number of scores is a Poisson variable?"
   ]
  },
  {
   "cell_type": "code",
   "execution_count": 2,
   "metadata": {},
   "outputs": [
    {
     "name": "stdout",
     "output_type": "stream",
     "text": [
      "We CAN reject the null hypothesis\n",
      "p-value: 5.85583627060059e-38\n"
     ]
    }
   ],
   "source": [
    "alpha = 0.05\n",
    "\n",
    "# Poisson (expected):\n",
    "mu = 2.435\n",
    "poisson_dist = poisson(mu)\n",
    "\n",
    "poisson_pmfs = np.array([poisson_dist.pmf(i) for i in range(1,8)]) \n",
    "poisson_pmfs = np.append(poisson_pmfs, 1 - poisson_pmfs.sum())\n",
    "\n",
    "E = poisson_pmfs * 448\n",
    "O = np.array([35, 99, 104, 110, 62, 25, 10, 3])\n",
    "\n",
    "chisquare_result = st.chisquare(f_exp = E, f_obs = O)\n",
    "\n",
    "if chisquare_result.pvalue < alpha:\n",
    "    print(\"We CAN reject the null hypothesis\")\n",
    "else:\n",
    "    print(\"We CAN NOT reject the null hypothesis\")\n",
    "    \n",
    "print(\"p-value:\", chisquare_result.pvalue)"
   ]
  },
  {
   "cell_type": "markdown",
   "metadata": {},
   "source": [
    "## BONUS/OPTIONAL - Question 2\n",
    "Let's analyze a discrete distribution. To analyze the number of defective items in a factory in the city of Medellín, we took a random sample of n = 60 articles and observed the number of defectives in the following table:\n",
    "\n",
    "![](table2.png)\n",
    "\n",
    "A poissón distribution was proposed since it is defined for x = 0,1,2,3, .... using the following model:\n",
    "\n",
    "![](image1.png)\n",
    "\n",
    "For some extra insights check the following link: https://online.stat.psu.edu/stat504/node/63/ \n",
    "\n",
    "Does the distribution of defective items follow this distribution?"
   ]
  },
  {
   "cell_type": "code",
   "execution_count": null,
   "metadata": {},
   "outputs": [],
   "source": [
    "# your code here"
   ]
  },
  {
   "cell_type": "markdown",
   "metadata": {},
   "source": [
    "## Question 3\n",
    "A quality control engineer takes a sample of 10 tires that come out of an assembly line, and would like to verify on the basis of the data that follows, if the number of tires with defects observed over 200 days, if it is true that 5% of all tires have defects (that is, if the sample comes from a binomial population with n = 10 and p = 0.05). \n",
    "\n",
    "![](table3.png)\n"
   ]
  },
  {
   "cell_type": "code",
   "execution_count": 3,
   "metadata": {},
   "outputs": [
    {
     "name": "stdout",
     "output_type": "stream",
     "text": [
      "We CAN reject the null hypothesis\n",
      "p-value: 0.01150355737929688\n"
     ]
    },
    {
     "name": "stderr",
     "output_type": "stream",
     "text": [
      "C:\\Users\\sfsou\\AppData\\Local\\Temp\\ipykernel_19264\\1745311063.py:5: DeprecationWarning: 'binom_test' is deprecated in favour of 'binomtest' from version 1.7.0 and will be removed in Scipy 1.12.0.\n",
      "  p_value = st.binom_test(defective_tires, n, p)\n"
     ]
    }
   ],
   "source": [
    "defective_tires = 3\n",
    "n = 10\n",
    "p = 0.05\n",
    "\n",
    "p_value = st.binom_test(defective_tires, n, p)\n",
    "\n",
    "if p_value < alpha:\n",
    "    print(\"We CAN reject the null hypothesis\")\n",
    "else:\n",
    "    print(\"We CAN NOT reject the null hypothesis\")\n",
    "    \n",
    "print(\"p-value:\", p_value)"
   ]
  },
  {
   "cell_type": "markdown",
   "metadata": {},
   "source": [
    "## Question 4\n",
    "A researcher gathers information about the patterns of Physical Activity of children in the fifth grade of primary school of a public school. He defines three categories of physical activity (Low, Medium, High). He also inquires about the regular consumption of sugary drinks at school, and defines two categories (Yes = consumed, No = not consumed). We would like to evaluate if there is an association between patterns of physical activity and the consumption of sugary drinks for the children of this school, at a level of 5% significance. The results are in the following table: \n",
    "\n",
    "![](table4.png)"
   ]
  },
  {
   "cell_type": "code",
   "execution_count": 4,
   "metadata": {},
   "outputs": [
    {
     "name": "stdout",
     "output_type": "stream",
     "text": [
      "We CAN reject the null hypothesis\n",
      "p-value: 0.004719280137040844\n"
     ]
    }
   ],
   "source": [
    "# H0: there is no association between patterns of physical activity and the consumption of sugary drinks\n",
    "# H1: there is an association between patterns of physical activity and the consumption of sugary drinks\n",
    "\n",
    "alpha = 0.05\n",
    "\n",
    "activity = np.array([[32, 12], \n",
    "                     [14, 22], \n",
    "                     [6, 9]])\n",
    "\n",
    "chiscquare_contigency_result = st.chi2_contingency(activity)\n",
    "\n",
    "if chiscquare_contigency_result.pvalue < alpha:\n",
    "    print(\"We CAN reject the null hypothesis\")\n",
    "else:\n",
    "    print(\"We CAN NOT reject the null hypothesis\")\n",
    "    \n",
    "print(\"p-value:\", chiscquare_contigency_result.pvalue)"
   ]
  }
 ],
 "metadata": {
  "kernelspec": {
   "display_name": "Python 3",
   "language": "python",
   "name": "python3"
  },
  "language_info": {
   "codemirror_mode": {
    "name": "ipython",
    "version": 3
   },
   "file_extension": ".py",
   "mimetype": "text/x-python",
   "name": "python",
   "nbconvert_exporter": "python",
   "pygments_lexer": "ipython3",
   "version": "3.10.9"
  }
 },
 "nbformat": 4,
 "nbformat_minor": 2
}
