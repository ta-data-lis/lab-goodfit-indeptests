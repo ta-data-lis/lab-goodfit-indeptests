{
 "cells": [
  {
   "cell_type": "code",
   "execution_count": 1,
   "metadata": {},
   "outputs": [],
   "source": [
    "import pandas as pd\n",
    "import numpy as np\n",
    "import scipy.stats as st"
   ]
  },
  {
   "cell_type": "markdown",
   "metadata": {},
   "source": [
    "## Question 1\n",
    "The following table indicates the number of 6-point scores in an American rugby match in the 1979 season.\n",
    "\n",
    "![](table1.png)\n",
    "\n",
    "Based on these results, we create a Poisson distribution with the sample mean parameter  = 2.435. Is there any reason to believe that at a .05 level the number of scores is a Poisson variable?"
   ]
  },
  {
   "cell_type": "code",
   "execution_count": 22,
   "metadata": {},
   "outputs": [
    {
     "data": {
      "text/plain": [
       "Power_divergenceResult(statistic=6.491310681109792, pvalue=0.48368890685373034)"
      ]
     },
     "execution_count": 22,
     "metadata": {},
     "output_type": "execute_result"
    }
   ],
   "source": [
    "# your answer here\n",
    "\n",
    "#H0: distribution is equal to Poisson with mean 2.435\n",
    "#H1: distribution is not Poisson with mean 2.435\n",
    "fish = st.poisson(2.435)\n",
    "probabilities = np.array([fish.pmf(i) for i in range(7)])\n",
    "probabilities = np.append(probabilities, fish.sf(6))\n",
    "probabilities.sum()\n",
    "O = np.array([35,99,104,110,62,25,10,3])\n",
    "E = probabilities * O.sum()\n",
    "print(st.chisquare(f_obs=O, f_exp=E))\n",
    "\n",
    "# We cannot reject the null hypothesis (ie, we cannot say this is different from a Poisson(lambda=2.435))"
   ]
  },
  {
   "cell_type": "markdown",
   "metadata": {},
   "source": [
    "## BONUS/OPTIONAL - Question 2\n",
    "Let's analyze a discrete distribution. To analyze the number of defective items in a factory in the city of Medellín, we took a random sample of n = 60 articles and observed the number of defectives in the following table:\n",
    "\n",
    "![](table2.png)\n",
    "\n",
    "A poissón distribution was proposed since it is defined for x = 0,1,2,3, .... using the following model:\n",
    "\n",
    "![](image1.png)\n",
    "\n",
    "For some extra insights check the following link: https://online.stat.psu.edu/stat504/node/63/ # <span style=\"color:red;\">STUDENT NOTE: PAGE NOT FOUND</span>\n",
    "\n",
    "Does the distribution of defective items follow this distribution?"
   ]
  },
  {
   "cell_type": "code",
   "execution_count": null,
   "metadata": {},
   "outputs": [],
   "source": [
    "# your code here\n"
   ]
  },
  {
   "cell_type": "markdown",
   "metadata": {},
   "source": [
    "## Question 3\n",
    "A quality control engineer takes a sample of 10 tires that come out of an assembly line, and would like to verify on the basis of the data that follows, if the number of tires with defects observed over 200 days, if it is true that 5% of all tires have defects (that is, if the sample comes from a binomial population with n = 10 and p = 0.05). \n",
    "\n",
    "![](table3.png)\n"
   ]
  },
  {
   "cell_type": "code",
   "execution_count": 29,
   "metadata": {},
   "outputs": [
    {
     "name": "stdout",
     "output_type": "stream",
     "text": [
      "0.9999999999999998\n"
     ]
    }
   ],
   "source": [
    "# your answer here\n",
    "\n",
    "distr = st.binom(n = 10, p = 0.05)\n",
    "O = np.array([138, 53, 9])\n",
    "probs = np.array([distr.pmf(i) for i in range(2)])\n",
    "probs = np.append(probs, distr.sf(1))\n",
    "print(probs.sum())\n",
    "E = probs * O.sum()"
   ]
  },
  {
   "cell_type": "code",
   "execution_count": 31,
   "metadata": {},
   "outputs": [
    {
     "data": {
      "text/plain": [
       "Power_divergenceResult(statistic=8.30617951954277, pvalue=0.015715783395951168)"
      ]
     },
     "execution_count": 31,
     "metadata": {},
     "output_type": "execute_result"
    }
   ],
   "source": [
    "st.chisquare(f_obs=O, f_exp=E)\n",
    "\n",
    "# We reject the null hypothesis (ie, there's reason to belive the distribution is different from the one postulated)"
   ]
  },
  {
   "cell_type": "markdown",
   "metadata": {},
   "source": [
    "## Question 4\n",
    "A researcher gathers information about the patterns of Physical Activity of children in the fifth grade of primary school of a public school. He defines three categories of physical activity (Low, Medium, High). He also inquires about the regular consumption of sugary drinks at school, and defines two categories (Yes = consumed, No = not consumed). We would like to evaluate if there is an association between patterns of physical activity and the consumption of sugary drinks for the children of this school, at a level of 5% significance. The results are in the following table: \n",
    "\n",
    "![](table4.png)"
   ]
  },
  {
   "cell_type": "code",
   "execution_count": 32,
   "metadata": {},
   "outputs": [
    {
     "data": {
      "text/plain": [
       "(10.712198008709638,\n",
       " 0.004719280137040844,\n",
       " 2,\n",
       " array([[24.08421053, 19.91578947],\n",
       "        [19.70526316, 16.29473684],\n",
       "        [ 8.21052632,  6.78947368]]))"
      ]
     },
     "execution_count": 32,
     "metadata": {},
     "output_type": "execute_result"
    }
   ],
   "source": [
    "#your answer here\n",
    "\n",
    "# H0: There is no difference in physical activity between students who drink sugary drinks and those who don't\n",
    "# H1: There is such a difference in physical activity\n",
    "\n",
    "table = [[32,12],\n",
    "\t\t[14,22],\n",
    "\t\t[6,9]]\n",
    "st.chi2_contingency(table)\n",
    "\n",
    "# Given the p-value of 0.004 (lower than 0.05), we reject the null hypothesis\n"
   ]
  }
 ],
 "metadata": {
  "kernelspec": {
   "display_name": "Python 3.8.13 ('Ironhack')",
   "language": "python",
   "name": "python3"
  },
  "language_info": {
   "codemirror_mode": {
    "name": "ipython",
    "version": 3
   },
   "file_extension": ".py",
   "mimetype": "text/x-python",
   "name": "python",
   "nbconvert_exporter": "python",
   "pygments_lexer": "ipython3",
   "version": "3.8.13"
  },
  "vscode": {
   "interpreter": {
    "hash": "ce8daeadbecdf1327004565080c2bef99f3da9e4e2409f5aeeaa17d54b366751"
   }
  }
 },
 "nbformat": 4,
 "nbformat_minor": 2
}
