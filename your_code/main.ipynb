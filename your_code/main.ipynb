{
 "cells": [
  {
   "cell_type": "markdown",
   "metadata": {},
   "source": [
    "## Question 1\n",
    "The following table indicates the number of 6-point scores in an American rugby match in the 1979 season.\n",
    "\n",
    "![](table1.png)\n",
    "\n",
    "Based on these results, we create a Poisson distribution with the sample mean parameter  = 2.435. Is there any reason to believe that at a .05 level the number of scores is a Poisson variable?"
   ]
  },
  {
   "cell_type": "code",
   "execution_count": 2,
   "metadata": {},
   "outputs": [],
   "source": [
    "# your answer here\n",
    "\n",
    "\n",
    "from scipy.stats import poisson\n",
    "import numpy as np\n",
    "import scipy.stats as st\n",
    "\n",
    "from scipy.stats import binom"
   ]
  },
  {
   "cell_type": "code",
   "execution_count": 3,
   "metadata": {},
   "outputs": [
    {
     "name": "stdout",
     "output_type": "stream",
     "text": [
      "We can not reject the null hypothesis\n",
      "p-value: 0.4836889068537269\n"
     ]
    }
   ],
   "source": [
    "# H0: The number of scores is a Poisson variable (with a sample mean parameter = 2.435)\n",
    "# H1: he number of scores is not a Poisson variable (with a sample mean parameter = 2.435)\n",
    "\n",
    "O = np.array([35, 99, 104, 110, 62, 25, 10, 3])\n",
    "\n",
    "population = O.sum() # population total\n",
    "\n",
    "mean = 2.435 # sample mean\n",
    "\n",
    "alpha = 0.05\n",
    "\n",
    "poisson_dist = poisson(mean)\n",
    "\n",
    "poisson_pmfs = np.array([poisson_dist.pmf(i) for i in range(0, 7)])\n",
    "\n",
    "tail = 1 - poisson_pmfs.sum()\n",
    "\n",
    "poisson_with_tail = np.append(poisson_pmfs, tail)\n",
    "\n",
    "E = poisson_with_tail * population\n",
    "\n",
    "chisquare_result = st.chisquare(f_obs = O, f_exp = E)\n",
    "\n",
    "if chisquare_result.pvalue < alpha:\n",
    "    print(\"We can reject the null hypothesis\")\n",
    "else:\n",
    "    print(\"We can not reject the null hypothesis\")\n",
    "    \n",
    "print(\"p-value:\", chisquare_result.pvalue)"
   ]
  },
  {
   "cell_type": "code",
   "execution_count": null,
   "metadata": {},
   "outputs": [],
   "source": [
    "\"\"\"\n",
    "There is reason to believe that the number of scores is a Poisson variable\n",
    "\"\"\""
   ]
  },
  {
   "cell_type": "markdown",
   "metadata": {},
   "source": [
    "## BONUS/OPTIONAL - Question 2\n",
    "Let's analyze a discrete distribution. To analyze the number of defective items in a factory in the city of Medellín, we took a random sample of n = 60 articles and observed the number of defectives in the following table:\n",
    "\n",
    "![](table2.png)\n",
    "\n",
    "A poissón distribution was proposed since it is defined for x = 0,1,2,3, .... using the following model:\n",
    "\n",
    "![](image1.png)\n",
    "\n",
    "For some extra insights check the following link: https://online.stat.psu.edu/stat504/node/63/ \n",
    "\n",
    "Does the distribution of defective items follow this distribution?"
   ]
  },
  {
   "cell_type": "code",
   "execution_count": null,
   "metadata": {},
   "outputs": [],
   "source": [
    "# your code here"
   ]
  },
  {
   "cell_type": "markdown",
   "metadata": {},
   "source": [
    "## Question 3\n",
    "A quality control engineer takes a sample of 10 tires that come out of an assembly line, and would like to verify on the basis of the data that follows, if the number of tires with defects observed over 200 days, if it is true that 5% of all tires have defects (that is, if the sample comes from a binomial population with n = 10 and p = 0.05). \n",
    "\n",
    "![](table3.png)\n"
   ]
  },
  {
   "cell_type": "code",
   "execution_count": 4,
   "metadata": {},
   "outputs": [
    {
     "name": "stdout",
     "output_type": "stream",
     "text": [
      "We can reject the null hypothesis\n",
      "p-value: 0.015715783395950887\n"
     ]
    }
   ],
   "source": [
    "# your answer here\n",
    "\n",
    "# H0: The sample comes from a binomial population (with n = 10 and p = 0.05)\n",
    "# H1: The sample does not come from a binomial population (with n = 10 and p = 0.05)\n",
    "\n",
    "O = np.array([138, 53, 9])\n",
    "\n",
    "population = O.sum()\n",
    "n = 10\n",
    "p = 0.05\n",
    "alpha = 0.05 # assume\n",
    "\n",
    "binom_dist = binom(n, p)\n",
    "\n",
    "binom_pmfs = np.array([binom_dist.pmf(i) for i in range(0, 2)])\n",
    "\n",
    "tail = 1 - binom_pmfs.sum()\n",
    "\n",
    "binom_with_tail = np.append(binom_pmfs, tail)\n",
    "\n",
    "E = binom_with_tail * population\n",
    "\n",
    "chisquare_result = st.chisquare(f_obs = O, f_exp = E)\n",
    "\n",
    "if chisquare_result.pvalue < alpha:\n",
    "    print(\"We can reject the null hypothesis\")\n",
    "else:\n",
    "    print(\"We can not reject the null hypothesis\")\n",
    "    \n",
    "print(\"p-value:\", chisquare_result.pvalue)"
   ]
  },
  {
   "cell_type": "markdown",
   "metadata": {},
   "source": [
    "## Question 4\n",
    "A researcher gathers information about the patterns of Physical Activity of children in the fifth grade of primary school of a public school. He defines three categories of physical activity (Low, Medium, High). He also inquires about the regular consumption of sugary drinks at school, and defines two categories (Yes = consumed, No = not consumed). We would like to evaluate if there is an association between patterns of physical activity and the consumption of sugary drinks for the children of this school, at a level of 5% significance. The results are in the following table: \n",
    "\n",
    "![](table4.png)"
   ]
  },
  {
   "cell_type": "code",
   "execution_count": 5,
   "metadata": {},
   "outputs": [
    {
     "name": "stdout",
     "output_type": "stream",
     "text": [
      "We can reject the null hypothesis\n",
      "p-value: 0.004719280137040844\n"
     ]
    }
   ],
   "source": [
    "#your answer here\n",
    "\n",
    "# H0: there is no association between patterns of physical activity and the consumption of sugary drinks\n",
    "# H1: there is an association between patterns of physical activity and the consumption of sugary drinks\n",
    "\n",
    "alpha = 0.05\n",
    "\n",
    "activity = np.array([[32, 12], \n",
    "                     [14, 22], \n",
    "                     [6, 9]])\n",
    "\n",
    "chiscquare_contigency_result = st.chi2_contingency(activity)\n",
    "\n",
    "if chiscquare_contigency_result.pvalue < alpha:\n",
    "    print(\"We can reject the null hypothesis\")\n",
    "else:\n",
    "    print(\"We can not reject the null hypothesis\")\n",
    "    \n",
    "print(\"p-value:\", chiscquare_contigency_result.pvalue)"
   ]
  }
 ],
 "metadata": {
  "kernelspec": {
   "display_name": "Python 3 (ipykernel)",
   "language": "python",
   "name": "python3"
  },
  "language_info": {
   "codemirror_mode": {
    "name": "ipython",
    "version": 3
   },
   "file_extension": ".py",
   "mimetype": "text/x-python",
   "name": "python",
   "nbconvert_exporter": "python",
   "pygments_lexer": "ipython3",
   "version": "3.10.9"
  }
 },
 "nbformat": 4,
 "nbformat_minor": 2
}
