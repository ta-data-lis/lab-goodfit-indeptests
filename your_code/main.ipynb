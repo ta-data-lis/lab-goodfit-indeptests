{
 "cells": [
  {
   "cell_type": "markdown",
   "metadata": {},
   "source": [
    "## Question 1\n",
    "The following table indicates the number of 6-point scores in an American rugby match in the 1979 season.\n",
    "\n",
    "![](table1.png)\n",
    "\n",
    "Based on these results, we create a Poisson distribution with the sample mean parameter  = 2.435. Is there any reason to believe that at a .05 level the number of scores is a Poisson variable?"
   ]
  },
  {
   "cell_type": "code",
   "execution_count": 125,
   "metadata": {},
   "outputs": [],
   "source": [
    "import numpy as np\n",
    "import scipy.stats as st\n",
    "import pandas as pd"
   ]
  },
  {
   "cell_type": "code",
   "execution_count": 106,
   "metadata": {},
   "outputs": [],
   "source": [
    "# your answer here\n",
    "\n",
    "# H0: dist = poisson(2.435)\n",
    "# H1: dist != poisson(2.345)\n",
    "\n",
    "# Significance level\n",
    "\n",
    "alpha=0.05\n",
    "\n",
    "# Sample\n",
    "\n",
    "observed=np.array([35,99,104,110,62,25,10,3])\n",
    "\n",
    "# Expected values\n",
    "\n",
    "poisson_dist=st.poisson(2.345)\n",
    "\n",
    "expected=[poisson_dist.pmf(i) for i in range(0,7)]\n",
    "\n",
    "expected.append(poisson_dist.sf(6))\n",
    "\n",
    "expected=np.array(expected)*448\n"
   ]
  },
  {
   "cell_type": "code",
   "execution_count": 107,
   "metadata": {},
   "outputs": [
    {
     "name": "stdout",
     "output_type": "stream",
     "text": [
      "We can not reject the null hypothesis. p-value= 0.30673923454746904, chi_stat= 8.301751994748336\n"
     ]
    }
   ],
   "source": [
    "# Chi Square test \n",
    "\n",
    "chi_stat=np.sum(((expected-observed)**2)/(expected))\n",
    "\n",
    "chi_stat\n",
    "\n",
    "df=8-1\n",
    "\n",
    "chi_dist=st.chi2(df=8-1)\n",
    "\n",
    "p_value=chi_dist.sf(chi_stat)\n",
    "\n",
    "p_value<alpha\n",
    "\n",
    "print(\"We can not reject the null hypothesis. p-value= {}, chi_stat= {}\".format(p_value,chi_stat))\n",
    "\n"
   ]
  },
  {
   "cell_type": "code",
   "execution_count": 108,
   "metadata": {},
   "outputs": [
    {
     "data": {
      "text/plain": [
       "Power_divergenceResult(statistic=8.301751994748336, pvalue=0.30673923454746904)"
      ]
     },
     "execution_count": 108,
     "metadata": {},
     "output_type": "execute_result"
    }
   ],
   "source": [
    "# Python way \n",
    "\n",
    "st.chisquare(observed,expected)"
   ]
  },
  {
   "cell_type": "markdown",
   "metadata": {},
   "source": [
    "## BONUS/OPTIONAL - Question 2\n",
    "Let's analyze a discrete distribution. To analyze the number of defective items in a factory in the city of Medellín, we took a random sample of n = 60 articles and observed the number of defectives in the following table:\n",
    "\n",
    "![](table2.png)\n",
    "\n",
    "A poissón distribution was proposed since it is defined for x = 0,1,2,3, .... using the following model:\n",
    "\n",
    "![](image1.png)\n",
    "\n",
    "For some extra insights check the following link: https://online.stat.psu.edu/stat504/node/63/ \n",
    "\n",
    "Does the distribution of defective items follow this distribution?"
   ]
  },
  {
   "cell_type": "code",
   "execution_count": 109,
   "metadata": {},
   "outputs": [],
   "source": [
    "# your code here\n",
    "\n",
    "\n",
    "observed=np.array([32,15,9,4])\n",
    "\n",
    "lamb=-np.log(32/60)\n",
    "\n",
    "#H0:poisson(lamb)\n",
    "#H1: != poisson(lamb)\n",
    "\n",
    "# Significance level\n",
    "\n",
    "alpha = 0.05\n",
    "\n",
    "poisson_dist=st.poisson(lamb)\n",
    "\n",
    "expected=[poisson_dist.pmf(i) for i in range(0,3)]\n",
    "\n",
    "expected.append(1-poisson_dist.cdf(2))\n",
    "\n",
    "expected=np.array(expected)*60\n"
   ]
  },
  {
   "cell_type": "code",
   "execution_count": 110,
   "metadata": {},
   "outputs": [
    {
     "name": "stdout",
     "output_type": "stream",
     "text": [
      "We can not reject the null hypothesis. p-value= 0.10052654759427035, chi_stat= 6.239395930811348\n"
     ]
    }
   ],
   "source": [
    "chi_stat=np.sum(((expected-observed)**2)/(expected))\n",
    "\n",
    "chi_dist=st.chi2(df=4-1)\n",
    "\n",
    "p_value=chi_dist.sf(chi_stat)\n",
    "\n",
    "\n",
    "print(\"We can not reject the null hypothesis. p-value= {}, chi_stat= {}\".format(p_value,chi_stat))\n"
   ]
  },
  {
   "cell_type": "code",
   "execution_count": 111,
   "metadata": {},
   "outputs": [
    {
     "data": {
      "text/plain": [
       "Power_divergenceResult(statistic=6.239395930811348, pvalue=0.10052654759427035)"
      ]
     },
     "execution_count": 111,
     "metadata": {},
     "output_type": "execute_result"
    }
   ],
   "source": [
    "# Python way\n",
    "\n",
    "st.chisquare(observed,expected)"
   ]
  },
  {
   "cell_type": "markdown",
   "metadata": {},
   "source": [
    "## Question 3\n",
    "A quality control engineer takes a sample of 10 tires that come out of an assembly line, and would like to verify on the basis of the data that follows, if the number of tires with defects observed over 200 days, if it is true that 5% of all tires have defects (that is, if the sample comes from a binomial population with n = 10 and p = 0.05). \n",
    "\n",
    "![](table3.png)\n"
   ]
  },
  {
   "cell_type": "code",
   "execution_count": 112,
   "metadata": {},
   "outputs": [],
   "source": [
    "# your answer here\n",
    "\n",
    "# H0: dist = binom(n=10,p=0.05)\n",
    "# H1: dist != binom(n=10,p=0.05)\n",
    "\n",
    "# Significance level = 0.05\n",
    "alpha=0.05\n",
    "\n",
    "# Sample\n",
    "\n",
    "# Observed data \n",
    "\n",
    "observed = np.array([138,53,9])\n",
    "\n",
    "binom_dist=st.binom(10,0.05)\n",
    "\n",
    "expected=[binom_dist.pmf(i) for i in range(0,2)]\n",
    "\n",
    "expected.append(binom_dist.sf(1))\n",
    "\n",
    "expected=np.array(expected)*sum(observed)"
   ]
  },
  {
   "cell_type": "code",
   "execution_count": 119,
   "metadata": {},
   "outputs": [
    {
     "name": "stdout",
     "output_type": "stream",
     "text": [
      "We can reject the null hypothesis. p-value= 0.015715783395951168, chi_stat= 8.30617951954277\n"
     ]
    }
   ],
   "source": [
    "chi_stat=np.sum(((expected-observed)**2)/(expected))\n",
    "\n",
    "chi_dist=st.chi2(df=3-1)\n",
    "\n",
    "p_value=chi_dist.sf(chi_stat)\n",
    "\n",
    "p_value<alpha\n",
    "\n",
    "print(\"We can reject the null hypothesis. p-value= {}, chi_stat= {}\".format(p_value,chi_stat))\n"
   ]
  },
  {
   "cell_type": "code",
   "execution_count": 122,
   "metadata": {},
   "outputs": [
    {
     "data": {
      "text/plain": [
       "Power_divergenceResult(statistic=8.30617951954277, pvalue=0.015715783395951168)"
      ]
     },
     "execution_count": 122,
     "metadata": {},
     "output_type": "execute_result"
    }
   ],
   "source": [
    "# Pyton way \n",
    "\n",
    "st.chisquare(observed,expected)"
   ]
  },
  {
   "cell_type": "markdown",
   "metadata": {},
   "source": [
    "## Question 4\n",
    "A researcher gathers information about the patterns of Physical Activity of children in the fifth grade of primary school of a public school. He defines three categories of physical activity (Low, Medium, High). He also inquires about the regular consumption of sugary drinks at school, and defines two categories (Yes = consumed, No = not consumed). We would like to evaluate if there is an association between patterns of physical activity and the consumption of sugary drinks for the children of this school, at a level of 5% significance. The results are in the following table: \n",
    "\n",
    "![](table4.png)"
   ]
  },
  {
   "cell_type": "code",
   "execution_count": 132,
   "metadata": {},
   "outputs": [
    {
     "name": "stdout",
     "output_type": "stream",
     "text": [
      "We can reject the null hypothesis. p-value= 0.004719280137040844, stat= 10.712198008709638\n"
     ]
    }
   ],
   "source": [
    "#your answer here\n",
    "\n",
    "#H0: are independent\n",
    "#H1: are dependenet\n",
    "\n",
    "# significance level 5%\n",
    "alpha=0.05\n",
    "\n",
    "#Stat test\n",
    "\n",
    "data={\"yes\":[32,14,6],\"no\":[12,22,9]}\n",
    "table=pd.DataFrame(data)\n",
    "\n",
    "table\n",
    "\n",
    "p_value=st.chi2_contingency(table)[1]\n",
    "\n",
    "stat=st.chi2_contingency(table)[0]\n",
    "\n",
    "p_value<alpha\n",
    "\n",
    "print(\"We can reject the null hypothesis. p-value= {}, stat= {}\".format(p_value,stat))\n",
    "\n"
   ]
  }
 ],
 "metadata": {
  "kernelspec": {
   "display_name": "Python 3.9.7 ('base')",
   "language": "python",
   "name": "python3"
  },
  "language_info": {
   "codemirror_mode": {
    "name": "ipython",
    "version": 3
   },
   "file_extension": ".py",
   "mimetype": "text/x-python",
   "name": "python",
   "nbconvert_exporter": "python",
   "pygments_lexer": "ipython3",
   "version": "3.9.7"
  },
  "vscode": {
   "interpreter": {
    "hash": "40d3a090f54c6569ab1632332b64b2c03c39dcf918b08424e98f38b5ae0af88f"
   }
  }
 },
 "nbformat": 4,
 "nbformat_minor": 2
}
