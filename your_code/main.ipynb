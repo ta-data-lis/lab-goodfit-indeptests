{
 "cells": [
  {
   "cell_type": "markdown",
   "metadata": {},
   "source": [
    "## Question 1\n",
    "The following table indicates the number of 6-point scores in an American rugby match in the 1979 season.\n",
    "\n",
    "![](table1.png)\n",
    "\n",
    "Based on these results, we create a Poisson distribution with the sample mean parameter  = 2.435. Is there any reason to believe that at a .05 level the number of scores is a Poisson variable?"
   ]
  },
  {
   "cell_type": "code",
   "execution_count": 1,
   "metadata": {},
   "outputs": [
    {
     "name": "stdout",
     "output_type": "stream",
     "text": [
      "The significance level is:  0.05\n",
      "The Observed values are:  [ 35  99 104 110  62  25  10   3]\n",
      "The sum of the all percentages are:  1.0\n",
      "The Expected values are:  [ 39.24379068  95.5586303  116.34263239  94.43143662  57.48513704\n",
      "  27.99526174  11.36141039   5.58170083]\n",
      "Stats:  6.491310681109792 \n",
      "p-value:  0.48368890685373034\n",
      "Is the p-value less then the significance level?  False\n"
     ]
    }
   ],
   "source": [
    "# your answer here\n",
    "import scipy.stats as st\n",
    "from scipy.stats import poisson\n",
    "import numpy as np\n",
    "\n",
    "# 1) SET THE HYPOTHESIS\n",
    "# H0: dist ~ Poisson Distribution (lambda=2.435)\n",
    "# H1: dist !~ Poinsson Distribution (lambda=2.435)\n",
    "\n",
    "# 2) CHOOSE THE SIGNIFICANCE LEVEL\n",
    "alpha = 0.05\n",
    "print(\"The significance level is: \", alpha)\n",
    "\n",
    "# 3) SAMPLE\n",
    "O = np.array([35,99,104,110,62,25,10,3])\n",
    "print(\"The Observed values are: \", O)\n",
    "\n",
    "# 3.1) COMPUTE THE EXPECTED VALUE UNDER H0\n",
    "# 3.1.1) getting the pmf of all the possible cenarios \n",
    "# mean=lambda\n",
    "lamb = 2.435\n",
    "\n",
    "poisson_dist = poisson(lamb)\n",
    "poisson_pmf = np.array([poisson_dist.pmf(i) for i in range (0, 7)])\n",
    "with_tail = np.append(poisson_pmf, poisson_dist.sf(6))\n",
    "\n",
    "print(\"The sum of the all percentages are: \", with_tail.sum())\n",
    "\n",
    "#3.1.2) Comput the Expected values\n",
    "E = with_tail * sum(O)\n",
    "print(\"The Expected values are: \", E)\n",
    "\n",
    "# 4) and 5) COMPUTE THE STATISTICS and COMPUTE THE p-value:\n",
    "stats, p_value = st.chisquare(f_obs=O, f_exp=E)\n",
    "print(\"Stats: \", stats, \"\\np-value: \",p_value)\n",
    "\n",
    "# 6) DECISION\n",
    "print(\"Is the p-value less then the significance level? \", p_value < alpha)"
   ]
  },
  {
   "cell_type": "code",
   "execution_count": null,
   "metadata": {},
   "outputs": [],
   "source": [
    "# I can say with a 0.05% confidence level that the numbers of scores is a poisson variable. I don't reject the null hypothesis"
   ]
  },
  {
   "cell_type": "markdown",
   "metadata": {},
   "source": [
    "## BONUS/OPTIONAL - Question 2\n",
    "Let's analyze a discrete distribution. To analyze the number of defective items in a factory in the city of Medellín, we took a random sample of n = 60 articles and observed the number of defectives in the following table:\n",
    "\n",
    "![](table2.png)\n",
    "\n",
    "A poissón distribution was proposed since it is defined for x = 0,1,2,3, .... using the following model:\n",
    "\n",
    "![](image1.png)\n",
    "\n",
    "For some extra insights check the following link: https://online.stat.psu.edu/stat504/node/63/ \n",
    "\n",
    "Does the distribution of defective items follow this distribution?"
   ]
  },
  {
   "cell_type": "code",
   "execution_count": null,
   "metadata": {},
   "outputs": [],
   "source": [
    "# your code here\n",
    "\n",
    "\n"
   ]
  },
  {
   "cell_type": "markdown",
   "metadata": {},
   "source": [
    "## Question 3\n",
    "A quality control engineer takes a sample of 10 tires that come out of an assembly line, and would like to verify on the basis of the data that follows, if the number of tires with defects observed over 200 days, if it is true that 5% of all tires have defects (that is, if the sample comes from a binomial population with n = 10 and p = 0.05). \n",
    "\n",
    "![](table3.png)\n"
   ]
  },
  {
   "cell_type": "code",
   "execution_count": 2,
   "metadata": {},
   "outputs": [
    {
     "name": "stdout",
     "output_type": "stream",
     "text": [
      "The significance level is:  0.05\n",
      "The Observed values are:  [138  53   9]\n",
      "The sum of the all percentages are:  0.9999999999999998\n",
      "The Expected values are:  [119.74738785  63.02494097  17.22767118]\n",
      "Stats:  8.30617951954277 \n",
      "p-value:  0.015715783395951168\n",
      "Is the p-value less then the significance level?  True\n"
     ]
    }
   ],
   "source": [
    "# your answer here\n",
    "\n",
    "# 1) SET THE HYPOTHESIS\n",
    "# H0: dist ~ Binomial Distribution (n=10, p=0.05)\n",
    "# H1: dist !~ Binomial Distribution (n=10, p=0.05)\n",
    "\n",
    "n= 10\n",
    "p= 0.05\n",
    "\n",
    "# 5% with defects\n",
    "\n",
    "# 2) CHOOSE THE SIGNIFICANCE LEVEL\n",
    "alpha = 0.05\n",
    "print(\"The significance level is: \", alpha)\n",
    "\n",
    "# 3) SAMPLE\n",
    "O = np.array([138,53,9])\n",
    "print(\"The Observed values are: \", O)\n",
    "\n",
    "# 3.1) COMPUTE THE EXPECTED VALUE UNDER H0\n",
    "# 3.1.1) getting the pmf of all the possible cenarios \n",
    "\n",
    "bino_dist = st.binom(n = 10, p = 0.05)\n",
    "bino_pmf = np.array([bino_dist.pmf(i) for i in range (2)])\n",
    "with_tail = np.append(bino_pmf, bino_dist.sf(1))\n",
    "\n",
    "print(\"The sum of the all percentages are: \", with_tail.sum())\n",
    "\n",
    "#3.1.2) Comput the Expected values\n",
    "E = with_tail * sum(O)\n",
    "print(\"The Expected values are: \", E)\n",
    "\n",
    "# 4) and 5) COMPUTE THE STATISTICS and COMPUTE THE p-value:\n",
    "stats, p_value = st.chisquare(f_obs=O, f_exp=E)\n",
    "print(\"Stats: \", stats, \"\\np-value: \",p_value)\n",
    "\n",
    "# 6) DECISION\n",
    "print(\"Is the p-value less then the significance level? \", p_value < alpha)"
   ]
  },
  {
   "cell_type": "code",
   "execution_count": null,
   "metadata": {},
   "outputs": [],
   "source": [
    "# I reject the null hypotesis ie. there's reason to believe that the distribution doesn't follow a binomial distribution with n=10 and p=0.05"
   ]
  },
  {
   "cell_type": "markdown",
   "metadata": {},
   "source": [
    "## Question 4\n",
    "A researcher gathers information about the patterns of Physical Activity of children in the fifth grade of primary school of a public school. He defines three categories of physical activity (Low, Medium, High). He also inquires about the regular consumption of sugary drinks at school, and defines two categories (Yes = consumed, No = not consumed). We would like to evaluate if there is an association between patterns of physical activity and the consumption of sugary drinks for the children of this school, at a level of 5% significance. The results are in the following table: \n",
    "\n",
    "![](table4.png)"
   ]
  },
  {
   "cell_type": "code",
   "execution_count": 6,
   "metadata": {},
   "outputs": [
    {
     "name": "stdout",
     "output_type": "stream",
     "text": [
      "The significance level is:  0.05\n",
      "The Observed values are: \n",
      " [[32 12]\n",
      " [14 22]\n",
      " [ 6  9]]\n"
     ]
    },
    {
     "data": {
      "text/plain": [
       "(10.712198008709638,\n",
       " 0.004719280137040844,\n",
       " 2,\n",
       " array([[24.08421053, 19.91578947],\n",
       "        [19.70526316, 16.29473684],\n",
       "        [ 8.21052632,  6.78947368]]))"
      ]
     },
     "execution_count": 6,
     "metadata": {},
     "output_type": "execute_result"
    }
   ],
   "source": [
    "#your answer here\n",
    "\n",
    "# your answer here\n",
    "\n",
    "# 1) SET THE HYPOTHESIS\n",
    "# H0: Patterns of physical activity are INDEPENDENT of sugary drinks consumption\n",
    "# H1: Patterns of physical activity are DEPENDENT of sugary drinks consumption\n",
    "\n",
    "# 2) CHOOSE THE SIGNIFICANCE LEVEL\n",
    "alpha = 0.05\n",
    "print(\"The significance level is: \", alpha)\n",
    "\n",
    "# 3) SAMPLE\n",
    "sample = np.array([\n",
    "    [32,12],\n",
    "    [14,22],\n",
    "    [6,9]\n",
    "])\n",
    "print(\"The Observed values are: \\n\", sample)\n",
    "\n",
    "# 4) and 5) COMPUTE THE STATISTICS and COMPUTE THE p-value:\n",
    "st.chi2_contingency(sample)"
   ]
  },
  {
   "cell_type": "code",
   "execution_count": 7,
   "metadata": {},
   "outputs": [
    {
     "name": "stdout",
     "output_type": "stream",
     "text": [
      "Is the p-value less then the significance level?  True\n"
     ]
    }
   ],
   "source": [
    "# 6) DECISION\n",
    "\n",
    "p_value = 0.004719280137040844\n",
    "print(\"Is the p-value less then the significance level? \", p_value < alpha)\n",
    "\n",
    "# I reject the null hypothesis with a confidence level of 0.05. \n",
    "# So it's possible to say that the patterns of physical activity are influenced by sugary drinks consumption"
   ]
  },
  {
   "cell_type": "code",
   "execution_count": null,
   "metadata": {},
   "outputs": [],
   "source": []
  }
 ],
 "metadata": {
  "kernelspec": {
   "display_name": "Python 3.9.13 ('ironhack')",
   "language": "python",
   "name": "python3"
  },
  "language_info": {
   "codemirror_mode": {
    "name": "ipython",
    "version": 3
   },
   "file_extension": ".py",
   "mimetype": "text/x-python",
   "name": "python",
   "nbconvert_exporter": "python",
   "pygments_lexer": "ipython3",
   "version": "3.9.13"
  },
  "vscode": {
   "interpreter": {
    "hash": "b52c70b0c498f74ff157f351076d810f77b2bb2ce7a98fe9a6e097a72ab01d5a"
   }
  }
 },
 "nbformat": 4,
 "nbformat_minor": 2
}
