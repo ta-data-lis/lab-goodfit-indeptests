{
 "cells": [
  {
   "cell_type": "markdown",
   "metadata": {},
   "source": [
    "## Question 1\n",
    "The following table indicates the number of 6-point scores in an American rugby match in the 1979 season.\n",
    "\n",
    "![](table1.png)\n",
    "\n",
    "Based on these results, we create a Poisson distribution with the sample mean parameter  = 2.435. Is there any reason to believe that at a .05 level the number of scores is a Poisson variable?"
   ]
  },
  {
   "cell_type": "code",
   "execution_count": 15,
   "metadata": {},
   "outputs": [],
   "source": [
    "import numpy as np\n",
    "import scipy.stats as st"
   ]
  },
  {
   "cell_type": "code",
   "execution_count": 2,
   "metadata": {},
   "outputs": [
    {
     "data": {
      "text/plain": [
       "array([0.21330051, 0.25969338, 0.21078446, 0.12831504, 0.06248942,\n",
       "       0.02536029, 0.00882176, 0.0036374 ])"
      ]
     },
     "execution_count": 2,
     "metadata": {},
     "output_type": "execute_result"
    }
   ],
   "source": [
    "# your answer here\n",
    "\n",
    "# H0: dist ~ poisson(0.2435)\n",
    "# H1: dist !~ poisson(0.2435)\n",
    "\n",
    "alpha = 0.05\n",
    "\n",
    "O = np.array([35, 99, 104, 110, 62, 25, 10, 3])\n",
    "\n",
    "from scipy.stats import poisson\n",
    "\n",
    "p = 2.435\n",
    "\n",
    "poisson_dist = poisson(p)\n",
    "poisson_pmf = np.array([poisson_dist.pmf(i) for i in range(1,8)])\n",
    "\n",
    "with_tail = np.append(poisson_pmf, poisson_dist.sf(7))\n",
    "\n",
    "E = with_tail \n",
    "E"
   ]
  },
  {
   "cell_type": "markdown",
   "metadata": {},
   "source": [
    "## BONUS/OPTIONAL - Question 2\n",
    "Let's analyze a discrete distribution. To analyze the number of defective items in a factory in the city of Medellín, we took a random sample of n = 60 articles and observed the number of defectives in the following table:\n",
    "\n",
    "![](table2.png)\n",
    "\n",
    "A poissón distribution was proposed since it is defined for x = 0,1,2,3, .... using the following model:\n",
    "\n",
    "![](image1.png)\n",
    "\n",
    "For some extra insights check the following link: https://online.stat.psu.edu/stat504/node/63/ \n",
    "\n",
    "Does the distribution of defective items follow this distribution?"
   ]
  },
  {
   "cell_type": "code",
   "execution_count": 3,
   "metadata": {},
   "outputs": [],
   "source": [
    "# your code here"
   ]
  },
  {
   "cell_type": "markdown",
   "metadata": {},
   "source": [
    "## Question 3\n",
    "A quality control engineer takes a sample of 10 tires that come out of an assembly line, and would like to verify on the basis of the data that follows, if the number of tires with defects observed over 200 days, if it is true that 5% of all tires have defects (that is, if the sample comes from a binomial population with n = 10 and p = 0.05). \n",
    "\n",
    "![](table3.png)\n"
   ]
  },
  {
   "cell_type": "code",
   "execution_count": 36,
   "metadata": {},
   "outputs": [
    {
     "data": {
      "text/plain": [
       "array([119.74738785,  63.02494097,  17.22767118])"
      ]
     },
     "execution_count": 36,
     "metadata": {},
     "output_type": "execute_result"
    }
   ],
   "source": [
    "# your answer here\n",
    "\n",
    "# H0: dist ~ binomial(0.05)\n",
    "# H1: dist !~ binomial(0.05)\n",
    "\n",
    "O = [138,53,9]\n",
    "\n",
    "p = 0.05\n",
    "n = 10\n",
    "\n",
    "from scipy.stats import binom\n",
    "\n",
    "binom_dist = binom(n,p)\n",
    "\n",
    "binom_pmf = np.array([binom_dist.pmf(i) for i in range(0,2)])\n",
    "\n",
    "with_tail = np.append(binom_pmf, binom_dist.sf(1))\n",
    "\n",
    "E = with_tail * 200\n",
    "E"
   ]
  },
  {
   "cell_type": "code",
   "execution_count": 37,
   "metadata": {},
   "outputs": [
    {
     "name": "stdout",
     "output_type": "stream",
     "text": [
      "[0.59873694 0.3151247  0.08613836]\n"
     ]
    }
   ],
   "source": [
    "\n",
    "print(with_tail)"
   ]
  },
  {
   "cell_type": "code",
   "execution_count": 38,
   "metadata": {},
   "outputs": [
    {
     "name": "stdout",
     "output_type": "stream",
     "text": [
      "8.30617951954277\n",
      "0.015715783395951168\n"
     ]
    },
    {
     "data": {
      "text/plain": [
       "True"
      ]
     },
     "execution_count": 38,
     "metadata": {},
     "output_type": "execute_result"
    }
   ],
   "source": [
    "stats, p_value = st.chisquare(f_obs=O, f_exp=E)\n",
    "\n",
    "print(stats)\n",
    "print(p_value)\n",
    "\n",
    "p_value < 0.05"
   ]
  },
  {
   "cell_type": "code",
   "execution_count": null,
   "metadata": {},
   "outputs": [],
   "source": [
    "# we reject H0"
   ]
  },
  {
   "cell_type": "markdown",
   "metadata": {},
   "source": [
    "## Question 4\n",
    "A researcher gathers information about the patterns of Physical Activity of children in the fifth grade of primary school of a public school. He defines three categories of physical activity (Low, Medium, High). He also inquires about the regular consumption of sugary drinks at school, and defines two categories (Yes = consumed, No = not consumed). We would like to evaluate if there is an association between patterns of physical activity and the consumption of sugary drinks for the children of this school, at a level of 5% significance. The results are in the following table: \n",
    "\n",
    "![](table4.png)"
   ]
  },
  {
   "cell_type": "code",
   "execution_count": 21,
   "metadata": {},
   "outputs": [
    {
     "data": {
      "text/plain": [
       "(10.712198008709638,\n",
       " 0.004719280137040844,\n",
       " 2,\n",
       " array([[24.08421053, 19.91578947],\n",
       "        [19.70526316, 16.29473684],\n",
       "        [ 8.21052632,  6.78947368]]))"
      ]
     },
     "execution_count": 21,
     "metadata": {},
     "output_type": "execute_result"
    }
   ],
   "source": [
    "#your answer here\n",
    "\n",
    "alpha = 0.05\n",
    "\n",
    "# H0:  physical activity is independent of consumptions of sugary drinks\n",
    "# H1:  physical activity is dependent on consumptions of sugary drinks\n",
    "\n",
    "data = np.array([[32,12],[14,22],[6,9]])\n",
    "\n",
    "st.chi2_contingency(data)"
   ]
  },
  {
   "cell_type": "code",
   "execution_count": 23,
   "metadata": {},
   "outputs": [
    {
     "data": {
      "text/plain": [
       "True"
      ]
     },
     "execution_count": 23,
     "metadata": {},
     "output_type": "execute_result"
    }
   ],
   "source": [
    "0.004719280137040844 < alpha"
   ]
  },
  {
   "cell_type": "code",
   "execution_count": null,
   "metadata": {},
   "outputs": [],
   "source": [
    "# we reject H0\n",
    "\n",
    "# we assume that physical activity is dependent on consumptions of sugary drinks"
   ]
  }
 ],
 "metadata": {
  "interpreter": {
   "hash": "ecb3fb6d188ff4619f90ca2a35ca6f2ca1746fcd172f4f953b4f0c73e8f5124d"
  },
  "kernelspec": {
   "display_name": "Python 3.8.5 ('projectsql')",
   "language": "python",
   "name": "python3"
  },
  "language_info": {
   "codemirror_mode": {
    "name": "ipython",
    "version": 3
   },
   "file_extension": ".py",
   "mimetype": "text/x-python",
   "name": "python",
   "nbconvert_exporter": "python",
   "pygments_lexer": "ipython3",
   "version": "3.8.5"
  }
 },
 "nbformat": 4,
 "nbformat_minor": 2
}
