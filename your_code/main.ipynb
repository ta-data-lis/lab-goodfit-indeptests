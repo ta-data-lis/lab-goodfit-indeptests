{
 "cells": [
  {
   "cell_type": "markdown",
   "metadata": {},
   "source": [
    "## Question 1\n",
    "The following table indicates the number of 6-point scores in an American rugby match in the 1979 season.\n",
    "\n",
    "![](table1.png)\n",
    "\n",
    "Based on these results, we create a Poisson distribution with the sample mean parameter  = 2.435. Is there any reason to believe that at a .05 level the number of scores is a Poisson variable?"
   ]
  },
  {
   "cell_type": "code",
   "execution_count": 11,
   "metadata": {},
   "outputs": [
    {
     "data": {
      "text/plain": [
       "Power_divergenceResult(statistic=6.491310681109821, pvalue=0.4836889068537269)"
      ]
     },
     "execution_count": 11,
     "metadata": {},
     "output_type": "execute_result"
    }
   ],
   "source": [
    "# your answer here\n",
    "from scipy.stats import poisson\n",
    "import numpy as np\n",
    "import scipy.stats as st\n",
    "\n",
    "p=2.435\n",
    "poisson_dist=poisson(p)\n",
    "\n",
    "#H0: our obs values follows a poisson dist\n",
    "#H1: our distribution does not follow a poisson dist\n",
    "##significance level = 5%\n",
    "\n",
    "poisson_pmfs=np.array([poisson_dist.pmf(i) for i in range(0,7)])\n",
    "poisson_pmfs=np.append(poisson_pmfs,1-poisson_pmfs.sum() )\n",
    "poisson_pmfs\n",
    "E= poisson_pmfs*448\n",
    "O= np.array([35,99,104,110,62,25,10,3])\n",
    "st.chisquare(f_obs=O,f_exp=E)"
   ]
  },
  {
   "cell_type": "code",
   "execution_count": 12,
   "metadata": {},
   "outputs": [
    {
     "name": "stdout",
     "output_type": "stream",
     "text": [
      "We can't reject the null, so we can assume that the observations follow a poisson distribution\n"
     ]
    }
   ],
   "source": [
    "print(\"We can't reject the null, so we can assume that the observations follow a poisson distribution\")"
   ]
  },
  {
   "cell_type": "markdown",
   "metadata": {},
   "source": [
    "## BONUS/OPTIONAL - Question 2\n",
    "Let's analyze a discrete distribution. To analyze the number of defective items in a factory in the city of Medellín, we took a random sample of n = 60 articles and observed the number of defectives in the following table:\n",
    "\n",
    "![](table2.png)\n",
    "\n",
    "A poissón distribution was proposed since it is defined for x = 0,1,2,3, .... using the following model:\n",
    "\n",
    "![](image1.png)\n",
    "\n",
    "For some extra insights check the following link: https://online.stat.psu.edu/stat504/node/63/ \n",
    "\n",
    "Does the distribution of defective items follow this distribution?"
   ]
  },
  {
   "cell_type": "code",
   "execution_count": null,
   "metadata": {},
   "outputs": [],
   "source": [
    "# your code here"
   ]
  },
  {
   "cell_type": "markdown",
   "metadata": {},
   "source": [
    "## Question 3\n",
    "A quality control engineer takes a sample of 10 tires that come out of an assembly line, and would like to verify on the basis of the data that follows, if the number of tires with defects observed over 200 days, if it is true that 5% of all tires have defects (that is, if the sample comes from a binomial population with n = 10 and p = 0.05). \n",
    "\n",
    "![](table3.png)\n"
   ]
  },
  {
   "cell_type": "code",
   "execution_count": 31,
   "metadata": {},
   "outputs": [
    {
     "data": {
      "text/plain": [
       "Power_divergenceResult(statistic=301.26393041615887, pvalue=3.813894820290711e-66)"
      ]
     },
     "execution_count": 31,
     "metadata": {},
     "output_type": "execute_result"
    }
   ],
   "source": [
    "# your answer here\n",
    "n = 10\n",
    "from scipy.stats import binom\n",
    "import numpy as np\n",
    "import scipy.stats as st\n",
    "\n",
    "p=0.05\n",
    "binomial_dist=binom(p,n)\n",
    "\n",
    "#H0: our obs values follows a binomial dist\n",
    "#H1: our distribution does not follow a binomial dist\n",
    "##significance level = 5%\n",
    "\n",
    "binom_pmfs=np.array([poisson_dist.pmf(i) for i in range(1,3)])\n",
    "binom_pmfs=np.append(binom_pmfs,1-binom_pmfs.sum() )\n",
    "E= binom_pmfs*200\n",
    "E\n",
    "O= np.array([138,53,9])\n",
    "st.chisquare(f_obs=O,f_exp=E)\n",
    "\n",
    "#I don't understand if he takes 10 tires per day and in what timeframe were the observations retrieved"
   ]
  },
  {
   "cell_type": "markdown",
   "metadata": {},
   "source": [
    "## Question 4\n",
    "A researcher gathers information about the patterns of Physical Activity of children in the fifth grade of primary school of a public school. He defines three categories of physical activity (Low, Medium, High). He also inquires about the regular consumption of sugary drinks at school, and defines two categories (Yes = consumed, No = not consumed). We would like to evaluate if there is an association between patterns of physical activity and the consumption of sugary drinks for the children of this school, at a level of 5% significance. The results are in the following table: \n",
    "\n",
    "![](table4.png)"
   ]
  },
  {
   "cell_type": "code",
   "execution_count": 34,
   "metadata": {},
   "outputs": [
    {
     "name": "stdout",
     "output_type": "stream",
     "text": [
      "10.712198008709638\n",
      "0.004719280137040844\n",
      "2\n",
      "[[24.08421053 19.91578947]\n",
      " [19.70526316 16.29473684]\n",
      " [ 8.21052632  6.78947368]]\n"
     ]
    }
   ],
   "source": [
    "#your answer here\n",
    "##H0: Physical Activity is independent of the consumption of sugary drink\n",
    "##H1: Physical Activity isn't independent of the consumption of sugary drink\n",
    "\n",
    "\n",
    "cars_table=[[32,12],[14,22],[6,9]]\n",
    "\n",
    "#significance levek\n",
    "alpha = 0.05\n",
    "\n",
    "stat, pvalue, ddof, E=st.chi2_contingency(cars_table)\n",
    "print(stat)\n",
    "print(pvalue)\n",
    "print(ddof)\n",
    "print(E)"
   ]
  },
  {
   "cell_type": "code",
   "execution_count": 37,
   "metadata": {},
   "outputs": [
    {
     "data": {
      "text/plain": [
       "True"
      ]
     },
     "execution_count": 37,
     "metadata": {},
     "output_type": "execute_result"
    }
   ],
   "source": [
    "pvalue < alpha"
   ]
  },
  {
   "cell_type": "code",
   "execution_count": 38,
   "metadata": {},
   "outputs": [
    {
     "name": "stdout",
     "output_type": "stream",
     "text": [
      "We can reject the null, thus implying that the physical activity is dependent of the consuption of sugary drinks\n"
     ]
    }
   ],
   "source": [
    "print(\"We can reject the null, thus implying that the physical activity is dependent of the consuption of sugary drinks\")"
   ]
  }
 ],
 "metadata": {
  "kernelspec": {
   "display_name": "Python 3 (ipykernel)",
   "language": "python",
   "name": "python3"
  },
  "language_info": {
   "codemirror_mode": {
    "name": "ipython",
    "version": 3
   },
   "file_extension": ".py",
   "mimetype": "text/x-python",
   "name": "python",
   "nbconvert_exporter": "python",
   "pygments_lexer": "ipython3",
   "version": "3.9.13"
  }
 },
 "nbformat": 4,
 "nbformat_minor": 2
}
