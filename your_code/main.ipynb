{
 "cells": [
  {
   "cell_type": "code",
   "execution_count": 207,
   "metadata": {},
   "outputs": [],
   "source": [
    "# Importing libraries\n",
    "import numpy as np\n",
    "import pandas as pd\n",
    "from scipy import stats\n",
    "from scipy.stats import poisson\n",
    "from scipy.stats import chisquare\n",
    "from scipy.stats import kstest"
   ]
  },
  {
   "cell_type": "markdown",
   "metadata": {},
   "source": [
    "## Question 1\n",
    "The following table indicates the number of 6-point scores in an American rugby match in the 1979 season.\n",
    "\n",
    "![](table1.png)\n",
    "\n",
    "Based on these results, we create a Poisson distribution with the sample mean parameter  = 2.435. Is there any reason to believe that at a .05 level the number of scores is a Poisson variable?"
   ]
  },
  {
   "cell_type": "code",
   "execution_count": 92,
   "metadata": {},
   "outputs": [
    {
     "data": {
      "text/plain": [
       "Power_divergenceResult(statistic=6.491310681109821, pvalue=0.4836889068537269)"
      ]
     },
     "execution_count": 92,
     "metadata": {},
     "output_type": "execute_result"
    }
   ],
   "source": [
    "# I was very confused here. Had no idea how to start this. Had to look at other's answers.\n",
    "\n",
    "mu = 2.435  # sample mean parameter\n",
    "values = np.arange(0, 8)  # the range from the table (0 till 7)\n",
    "observed_values = np.array([35, 99, 104, 110, 62, 25, 10, 3])  # corresponding values from the table\n",
    "\n",
    "prob_0_6 = np.array(poisson.pmf(values[:-1], mu))  # calculating the expected poisson value for each point till 6\n",
    "\n",
    "# Calculating rest of the probs\n",
    "## basically adding the 7 or more value (which is all the rest) to the end of the prob_0_6 array\n",
    "total_probs = np.append(prob_0_6, (1 - sum(prob_0_6)))\n",
    "\n",
    "# The expected values for the poisson distribution?\n",
    "## What exactly are these values? Poisson prediction? Looks like they are the new 'number of times' values\n",
    "expected_values = total_probs * sum(observed_values)  # I have some doubts about the math that's going on here\n",
    "\n",
    "# Perfoming the ChiSquare test\n",
    "chisquare(observed_values, f_exp = expected_values)\n",
    "\n",
    "# Since the pvalue is > 0.05 (it is extremely high) we cannot reject the H0 that the two distributions are similar.\n",
    "# We can't reject the H0 that the observed distribution follows a poisson distribution"
   ]
  },
  {
   "cell_type": "markdown",
   "metadata": {},
   "source": [
    "## Question 2\n",
    "The following are the ordered values of a random sample of SAT scores (university entrance exam) for several students: 852, 875, 910, 933, 957, 963, 981, 998, 1010, 1015, 1018, 1023, 1035, 1048, 1063. In previous years, the scores were presented by N (985,50). Based on the sample, is there any reason to believe that there has been a change in the distribution of scores this year? Use the level alpha = 0.05. "
   ]
  },
  {
   "cell_type": "code",
   "execution_count": 224,
   "metadata": {},
   "outputs": [
    {
     "name": "stdout",
     "output_type": "stream",
     "text": [
      "Chi Square result: Power_divergenceResult(statistic=54.56167862579545, pvalue=1.0294904079529577e-06) \n",
      "\n",
      "K-S result: KstestResult(statistic=0.1581291279406798, pvalue=0.847406396427736)\n"
     ]
    }
   ],
   "source": [
    "#your answer here\n",
    "observed_values = np.array([852, 875, 910, 933, 957, 963, 981, 998, 1010, 1015, 1018, 1023, 1035, 1048, 1063])\n",
    "\n",
    "normal = stats.norm(loc = 985, scale = 50)  # initializing the distribution\n",
    "expected_values = normal.rvs(size = len(observed_values))  # generating the expected normal distribution values\n",
    "\n",
    "# Performing these 2 tests as I'm unsure which one to pick. Maybe could've also done Chi2 as well\n",
    "print('Chi Square result:', chisquare(observed_values, f_exp = expected_values), '\\n')  # performing the chisquare test\n",
    "print('K-S result:', kstest(observed_values, normal.cdf))  # performing the K-S Test\n",
    "\n",
    "'''\n",
    "So, as you can see, I'm getting very different results. I don't know which one to pick. K-S is for continuous, right?\n",
    "I'm unsure if this is continuous or not. It's just a bunch of test scores, which I initially thought would be\n",
    "discrete, as each student just has his own score and that's it, but I have doubts now, with all that thing that we can\n",
    "'treat things as continuous' even though they are not. That still confuses me.\n",
    "I'd appreciate if you could explain this one to me. Thanks.\n",
    "'''"
   ]
  },
  {
   "cell_type": "markdown",
   "metadata": {},
   "source": [
    "## Question 3\n",
    "Let's analyze a discrete distribution. To analyze the number of defective items in a factory in the city of Medellín, we took a random sample of n = 60 articles and observed the number of defectives in the following table:\n",
    "\n",
    "![](table2.png)\n",
    "\n",
    "A poisson distribution was proposed since it is defined for x = 0,1,2,3, .... using the following model:\n",
    "\n",
    "![](image1.png)\n",
    "\n",
    "Does the distribution of defective items follow this distribution?"
   ]
  },
  {
   "cell_type": "code",
   "execution_count": 275,
   "metadata": {},
   "outputs": [
    {
     "data": {
      "text/plain": [
       "Power_divergenceResult(statistic=70.99866431796806, pvalue=2.6085173912897782e-15)"
      ]
     },
     "execution_count": 275,
     "metadata": {},
     "output_type": "execute_result"
    }
   ],
   "source": [
    "# your code here\n",
    "# Tried copying what I did for question 1 since it was poisson as well. There's probably something wrong here. HEEEELP!\n",
    "values = np.array([0, 1, 3, 4])\n",
    "observed_values = np.array([32, 15, 9, 4])\n",
    "mu = values.mean()#observed_values.mean() # I thought the mean would be of the observed? But it returned pval = 0.0?\n",
    "\n",
    "total_probs = np.array(poisson.pmf(values, mu))  # calculating the expected poisson value for each point\n",
    "expected_values = total_probs * sum(observed_values)\n",
    "\n",
    "# Perfoming the ChiSquare test\n",
    "chisquare(observed_values, f_exp = expected_values) # pval is << 0.05 so we can reject this craziness"
   ]
  },
  {
   "cell_type": "markdown",
   "metadata": {},
   "source": [
    "## Question 4\n",
    "A quality control engineer takes a sample of 10 tires that come out of an assembly line, and would like to verify on the basis of the data that follows, if the number of tires with defects observed over 200 days, if it is true that 5% of all tires have defects (that is, if the sample comes from a binomial population with n = 10 and p = 0.05). \n",
    "\n",
    "![](table3.png)\n"
   ]
  },
  {
   "cell_type": "code",
   "execution_count": null,
   "metadata": {},
   "outputs": [],
   "source": [
    "# your answer here"
   ]
  },
  {
   "cell_type": "markdown",
   "metadata": {},
   "source": [
    "## Question 5\n",
    "A researcher gathers information about the patterns of Physical Activity of children in the fifth grade of primary school of a public school. He defines three categories of physical activity (Low, Medium, High). He also inquires about the regular consumption of sugary drinks at school, and defines two categories (Yes = consumed, No = not consumed). We would like to evaluate if there is an association between patterns of physical activity and the consumption of sugary drinks for the children of this school, at a level of 5% significance. The results are in the following table: \n",
    "\n",
    "![](table4.png)"
   ]
  },
  {
   "cell_type": "code",
   "execution_count": null,
   "metadata": {},
   "outputs": [],
   "source": [
    "#your answer here"
   ]
  }
 ],
 "metadata": {
  "kernelspec": {
   "display_name": "Python 3",
   "language": "python",
   "name": "python3"
  },
  "language_info": {
   "codemirror_mode": {
    "name": "ipython",
    "version": 3
   },
   "file_extension": ".py",
   "mimetype": "text/x-python",
   "name": "python",
   "nbconvert_exporter": "python",
   "pygments_lexer": "ipython3",
   "version": "3.7.5"
  }
 },
 "nbformat": 4,
 "nbformat_minor": 2
}
