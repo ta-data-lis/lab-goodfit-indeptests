{
 "cells": [
  {
   "cell_type": "markdown",
   "metadata": {},
   "source": [
    "## Question 1\n",
    "The following table indicates the number of 6-point scores in an American rugby match in the 1979 season.\n",
    "\n",
    "![](table1.png)\n",
    "\n",
    "Based on these results, we create a Poisson distribution with the sample mean parameter  = 2.435. Is there any reason to believe that at a .05 level the number of scores is a Poisson variable?"
   ]
  },
  {
   "cell_type": "code",
   "execution_count": 25,
   "metadata": {},
   "outputs": [
    {
     "name": "stdout",
     "output_type": "stream",
     "text": [
      "Fail to reject the null hypothesis. The data follows a Poisson distribution.\n"
     ]
    }
   ],
   "source": [
    "import numpy as np\n",
    "from scipy.stats import poisson, chi2\n",
    "\n",
    "observed_frequencies = np.array([35, 99, 104, 110, 62, 25, 10, 3])\n",
    "total_times = 448\n",
    "mean_parameter = np.sum(np.arange(len(observed_frequencies)) * observed_frequencies) / total_times\n",
    "expected_frequencies = poisson.pmf(np.arange(len(observed_frequencies)), mean_parameter) * total_times\n",
    "chi_squared_statistic = np.sum((observed_frequencies - expected_frequencies)**2 / expected_frequencies)\n",
    "degrees_of_freedom = len(observed_frequencies) - 1\n",
    "critical_value = chi2.ppf(0.95, degrees_of_freedom)\n",
    "\n",
    "\n",
    "if chi_squared_statistic > critical_value:\n",
    "    print(\"Reject the null hypothesis. The data does not follow a Poisson distribution.\")\n",
    "else:\n",
    "    print(\"Fail to reject the null hypothesis. The data follows a Poisson distribution.\")"
   ]
  },
  {
   "cell_type": "markdown",
   "metadata": {},
   "source": [
    "## BONUS/OPTIONAL - Question 2\n",
    "Let's analyze a discrete distribution. To analyze the number of defective items in a factory in the city of Medellín, we took a random sample of n = 60 articles and observed the number of defectives in the following table:\n",
    "\n",
    "![](table2.png)\n",
    "\n",
    "A poissón distribution was proposed since it is defined for x = 0,1,2,3, .... using the following model:\n",
    "\n",
    "![](image1.png)\n",
    "\n",
    "For some extra insights check the following link: https://online.stat.psu.edu/stat504/node/63/ \n",
    "\n",
    "Does the distribution of defective items follow this distribution?"
   ]
  },
  {
   "cell_type": "code",
   "execution_count": null,
   "metadata": {},
   "outputs": [],
   "source": [
    "# your code here"
   ]
  },
  {
   "cell_type": "markdown",
   "metadata": {},
   "source": [
    "## Question 3\n",
    "A quality control engineer takes a sample of 10 tires that come out of an assembly line, and would like to verify on the basis of the data that follows, if the number of tires with defects observed over 200 days, if it is true that 5% of all tires have defects (that is, if the sample comes from a binomial population with n = 10 and p = 0.05). \n",
    "\n",
    "![](table3.png)\n"
   ]
  },
  {
   "cell_type": "code",
   "execution_count": 26,
   "metadata": {},
   "outputs": [
    {
     "name": "stdout",
     "output_type": "stream",
     "text": [
      "Reject the null hypothesis. The data does not fit a binomial distribution.\n"
     ]
    }
   ],
   "source": [
    "observed_frequencies = np.array([138, 53, 9])\n",
    "defective_item_counts = np.array([0, 1, 2])\n",
    "\n",
    "\n",
    "total_samples = np.sum(observed_frequencies)\n",
    "p = 0.05\n",
    "expected_frequencies = np.array([total_samples * (1 - p)**2, total_samples * 2 * p * (1 - p), total_samples * p**2])\n",
    "chi_squared_statistic = np.sum((observed_frequencies - expected_frequencies)**2 / expected_frequencies)\n",
    "degrees_of_freedom = len(observed_frequencies) - 1\n",
    "critical_value = chi2.ppf(0.95, degrees_of_freedom)\n",
    "\n",
    "\n",
    "if chi_squared_statistic > critical_value:\n",
    "    print(\"Reject the null hypothesis. The data does not fit a binomial distribution.\")\n",
    "else:\n",
    "    print(\"Fail to reject the null hypothesis. The data fits a binomial distribution.\")"
   ]
  },
  {
   "cell_type": "markdown",
   "metadata": {},
   "source": [
    "## Question 4\n",
    "A researcher gathers information about the patterns of Physical Activity of children in the fifth grade of primary school of a public school. He defines three categories of physical activity (Low, Medium, High). He also inquires about the regular consumption of sugary drinks at school, and defines two categories (Yes = consumed, No = not consumed). We would like to evaluate if there is an association between patterns of physical activity and the consumption of sugary drinks for the children of this school, at a level of 5% significance. The results are in the following table: \n",
    "\n",
    "![](table4.png)"
   ]
  },
  {
   "cell_type": "code",
   "execution_count": 27,
   "metadata": {},
   "outputs": [
    {
     "name": "stdout",
     "output_type": "stream",
     "text": [
      "Reject the null hypothesis. There is a significant association between patterns of physical activity and sugary drink consumption.\n"
     ]
    }
   ],
   "source": [
    "from scipy.stats import chi2_contingency\n",
    "\n",
    "\n",
    "observed_frequencies = np.array([[32, 14, 6],\n",
    "                                 [12, 22, 9]])\n",
    "chi2, p, dof, expected = chi2_contingency(observed_frequencies)\n",
    "alpha = 0.05\n",
    "if p < alpha:\n",
    "    print(\"Reject the null hypothesis. There is a significant association between patterns of physical activity and sugary drink consumption.\")\n",
    "else:\n",
    "    print(\"Fail to reject the null hypothesis. There is no significant association between patterns of physical activity and sugary drink consumption.\")"
   ]
  }
 ],
 "metadata": {
  "kernelspec": {
   "display_name": "Python 3 (ipykernel)",
   "language": "python",
   "name": "python3"
  },
  "language_info": {
   "codemirror_mode": {
    "name": "ipython",
    "version": 3
   },
   "file_extension": ".py",
   "mimetype": "text/x-python",
   "name": "python",
   "nbconvert_exporter": "python",
   "pygments_lexer": "ipython3",
   "version": "3.10.9"
  }
 },
 "nbformat": 4,
 "nbformat_minor": 2
}
