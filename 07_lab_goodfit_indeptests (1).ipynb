{
  "cells": [
    {
      "cell_type": "markdown",
      "metadata": {
        "id": "4E3_wsMIWA--"
      },
      "source": [
        "## Question 1\n",
        "The following table indicates the number of 6-point scores in an American rugby match in the 1979 season.\n",
        "\n",
        "![](table1.png)\n",
        "\n",
        "Based on these results, we create a Poisson distribution with the sample mean parameter  = 2.435. Is there any reason to believe that at a .05 level the number of scores is a Poisson variable?"
      ]
    },
    {
      "cell_type": "code",
      "execution_count": null,
      "metadata": {
        "id": "OWWR0_WKWA_A"
      },
      "outputs": [],
      "source": [
        "from scipy.stats import poisson\n",
        "from scipy.stats import geom\n",
        "import scipy.stats as st\n",
        "import numpy as np"
      ]
    },
    {
      "cell_type": "code",
      "source": [
        "# Some guy claims that our observations follows a poisson. Check this with 5% significance\n",
        "# np.array([35, 99, 104, 110, 62, 25, 10, 3]) #### this \"3\" is actually for > 7\n",
        "\n",
        "# H0: our obervation follows a poisson\n",
        "# H1: our obsservation do not follow a poisson"
      ],
      "metadata": {
        "id": "bkVPpaxgXiYm"
      },
      "execution_count": null,
      "outputs": []
    },
    {
      "cell_type": "code",
      "source": [
        "f_obs = np.array([35, 99, 104, 110, 62, 25, 10, 3])\n",
        "\n",
        "mean = np.array([35*0, 99*1, 104*2, 110*3, 62*4, 25*5,10*6, 7*3]).sum()/448\n",
        "mean #### ah ah ah, just realized i got it in the exercise's statement :D"
      ],
      "metadata": {
        "id": "XLrr3L95YSmG",
        "colab": {
          "base_uri": "https://localhost:8080/"
        },
        "outputId": "6ad79262-56d6-429f-afcf-8f0265897587"
      },
      "execution_count": null,
      "outputs": [
        {
          "output_type": "execute_result",
          "data": {
            "text/plain": [
              "2.435267857142857"
            ]
          },
          "metadata": {},
          "execution_count": 2
        }
      ]
    },
    {
      "cell_type": "code",
      "source": [
        "mu = mean\n",
        "poisson_dist = poisson(mu)\n",
        "\n",
        "poisson_pmfs = np.array([poisson_dist.pmf(i) for i in range(0,7)]) ### range until  6 socre, has to be 7 here because it's exclusive\n",
        "with_tail = np.append(poisson_pmfs, 1 - poisson_pmfs.sum()) ##### or poisson_pmfs, 1 - poisson_dist.cdf(6), for appending \" > 7\"\n",
        "f_exp = with_tail* 448\n",
        "\n",
        "st.chisquare(f_obs = f_obs, f_exp = f_exp)\n",
        "p_value = st.chisquare(f_obs = f_obs, f_exp = f_exp)[1]\n",
        "p_value"
      ],
      "metadata": {
        "colab": {
          "base_uri": "https://localhost:8080/"
        },
        "id": "QEzfQLM3Xtt_",
        "outputId": "6a35447f-e859-4d7f-9e3d-19c946c922d9"
      },
      "execution_count": null,
      "outputs": [
        {
          "output_type": "execute_result",
          "data": {
            "text/plain": [
              "0.4838104817385578"
            ]
          },
          "metadata": {},
          "execution_count": 5
        }
      ]
    },
    {
      "cell_type": "code",
      "source": [
        "if p_value > 0.05:\n",
        "  print(\"I can not reject the null hypothesis\")\n",
        "else:\n",
        "  print(\"We can reject the null hypothesis\")"
      ],
      "metadata": {
        "colab": {
          "base_uri": "https://localhost:8080/"
        },
        "id": "cQrBkZCGXtqJ",
        "outputId": "5ebbdc9c-88e9-48f6-8712-0e79cebe094e"
      },
      "execution_count": null,
      "outputs": [
        {
          "output_type": "stream",
          "name": "stdout",
          "text": [
            "I can not reject the null hypothesis\n"
          ]
        }
      ]
    },
    {
      "cell_type": "code",
      "source": [
        "# We can not reject that our observations follows a poisson distribution!\n",
        "# p_value > significance_level :)"
      ],
      "metadata": {
        "id": "kg8RDOqfXtnu"
      },
      "execution_count": null,
      "outputs": []
    },
    {
      "cell_type": "markdown",
      "metadata": {
        "id": "GHXLJrfYWA_A"
      },
      "source": [
        "## BONUS/OPTIONAL - Question 2\n",
        "Let's analyze a discrete distribution. To analyze the number of defective items in a factory in the city of Medellín, we took a random sample of n = 60 articles and observed the number of defectives in the following table:\n",
        "\n",
        "![](table2.png)\n",
        "\n",
        "A poissón distribution was proposed since it is defined for x = 0,1,2,3, .... using the following model:\n",
        "\n",
        "![](image1.png)\n",
        "\n",
        "For some extra insights check the following link: https://online.stat.psu.edu/stat504/node/63/\n",
        "\n",
        "Does the distribution of defective items follow this distribution?"
      ]
    },
    {
      "cell_type": "code",
      "execution_count": null,
      "metadata": {
        "id": "bsbBv04YWA_B"
      },
      "outputs": [],
      "source": [
        "# your code here"
      ]
    },
    {
      "cell_type": "markdown",
      "metadata": {
        "id": "FkoPT9L7WA_B"
      },
      "source": [
        "## Question 3\n",
        "A quality control engineer takes a sample of 10 tires that come out of an assembly line, and would like to verify on the basis of the data that follows, if the number of tires with defects observed over 200 days, if it is true that 5% of all tires have defects (that is, if the sample comes from a binomial population with n = 10 and p = 0.05).\n",
        "\n",
        "![](table3.png)\n"
      ]
    },
    {
      "cell_type": "code",
      "execution_count": null,
      "metadata": {
        "id": "eHhHapknWA_B"
      },
      "outputs": [],
      "source": [
        "# your answer here"
      ]
    },
    {
      "cell_type": "markdown",
      "metadata": {
        "id": "BLvBNyG_WA_B"
      },
      "source": [
        "## Question 4\n",
        "A researcher gathers information about the patterns of Physical Activity of children in the fifth grade of primary school of a public school. He defines three categories of physical activity (Low, Medium, High). He also inquires about the regular consumption of sugary drinks at school, and defines two categories (Yes = consumed, No = not consumed). We would like to evaluate if there is an association between patterns of physical activity and the consumption of sugary drinks for the children of this school, at a level of 5% significance. The results are in the following table:\n",
        "\n",
        "![](table4.png)"
      ]
    },
    {
      "cell_type": "code",
      "execution_count": null,
      "metadata": {
        "id": "a0s5p7xCWA_B"
      },
      "outputs": [],
      "source": [
        "#your answer here"
      ]
    }
  ],
  "metadata": {
    "kernelspec": {
      "display_name": "Python 3",
      "language": "python",
      "name": "python3"
    },
    "language_info": {
      "codemirror_mode": {
        "name": "ipython",
        "version": 3
      },
      "file_extension": ".py",
      "mimetype": "text/x-python",
      "name": "python",
      "nbconvert_exporter": "python",
      "pygments_lexer": "ipython3",
      "version": "3.8.3"
    },
    "colab": {
      "provenance": []
    }
  },
  "nbformat": 4,
  "nbformat_minor": 0
}